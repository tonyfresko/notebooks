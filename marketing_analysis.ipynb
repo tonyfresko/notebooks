{
 "cells": [
  {
   "cell_type": "markdown",
   "metadata": {},
   "source": [
    "In this exploratory analysis and initial prediction, I've used:\n",
    "- pandas for exploration and manipulation.\n",
    "    - The dataframes fit in memory, and it offers great integration with plotting and ML tools, alongside very easy manipulation of data\n",
    "- scikit-learn package for machine learning models and testing framework\n",
    "    - Great for prototyping simple models and viewing underlying relationships of features\n",
    "    - Easy validation/assessment of models\n",
    "- matplotlib/seaborn for plotting\n",
    "    - This is the plotting library I'm most familiar with"
   ]
  },
  {
   "cell_type": "code",
   "execution_count": 1,
   "metadata": {},
   "outputs": [],
   "source": [
    "import pandas as pd\n",
    "import numpy as np\n",
    "import matplotlib.pyplot as plt\n",
    "import seaborn as sns\n",
    "%matplotlib inline\n",
    "\n",
    "from datetime import timedelta"
   ]
  },
  {
   "cell_type": "code",
   "execution_count": 2,
   "metadata": {},
   "outputs": [],
   "source": [
    "from sklearn.model_selection import train_test_split\n",
    "from sklearn.linear_model import LogisticRegression\n",
    "from sklearn.metrics import classification_report\n",
    "from sklearn.preprocessing import StandardScaler"
   ]
  },
  {
   "cell_type": "code",
   "execution_count": 3,
   "metadata": {},
   "outputs": [],
   "source": [
    "user_info_path = \"assessment_data/user_info.csv\"\n",
    "chapters_read_path = \"assessment_data/chapters_read.csv\"\n",
    "questions_read_path = \"assessment_data/questions_read.csv\"\n",
    "code_activations_path = \"assessment_data/code_activations.csv\""
   ]
  },
  {
   "cell_type": "code",
   "execution_count": 4,
   "metadata": {},
   "outputs": [],
   "source": [
    "df_user_info = pd.read_csv(user_info_path)\n",
    "df_chapters_read = pd.read_csv(chapters_read_path)\n",
    "df_questions_read = pd.read_csv(questions_read_path)\n",
    "df_code_activations = pd.read_csv(code_activations_path)\n",
    "\n",
    "# force all time columns to be datetime type\n",
    "df_user_info['register_date'] = pd.to_datetime(df_user_info['register_date'])\n",
    "df_chapters_read['created_at'] = pd.to_datetime(df_chapters_read['created_at'])\n",
    "df_questions_read['created_at'] = pd.to_datetime(df_questions_read['created_at'])\n",
    "df_code_activations['code_activation'] = pd.to_datetime(df_code_activations['code_activation'])"
   ]
  },
  {
   "cell_type": "markdown",
   "metadata": {},
   "source": [
    "### Initial look at the tables"
   ]
  },
  {
   "cell_type": "code",
   "execution_count": 5,
   "metadata": {},
   "outputs": [
    {
     "data": {
      "text/html": [
       "<div>\n",
       "<style>\n",
       "    .dataframe thead tr:only-child th {\n",
       "        text-align: right;\n",
       "    }\n",
       "\n",
       "    .dataframe thead th {\n",
       "        text-align: left;\n",
       "    }\n",
       "\n",
       "    .dataframe tbody tr th {\n",
       "        vertical-align: top;\n",
       "    }\n",
       "</style>\n",
       "<table border=\"1\" class=\"dataframe\">\n",
       "  <thead>\n",
       "    <tr style=\"text-align: right;\">\n",
       "      <th></th>\n",
       "      <th>user_id</th>\n",
       "      <th>country_id</th>\n",
       "      <th>next_exam_type</th>\n",
       "      <th>marketing_source</th>\n",
       "      <th>signup_device</th>\n",
       "      <th>signup_os</th>\n",
       "      <th>activated</th>\n",
       "      <th>register_date</th>\n",
       "    </tr>\n",
       "  </thead>\n",
       "  <tbody>\n",
       "    <tr>\n",
       "      <th>0</th>\n",
       "      <td>1079934</td>\n",
       "      <td>AU</td>\n",
       "      <td>NaN</td>\n",
       "      <td>conference</td>\n",
       "      <td>desktop</td>\n",
       "      <td>Windows</td>\n",
       "      <td>1</td>\n",
       "      <td>2017-10-01 01:55:57</td>\n",
       "    </tr>\n",
       "    <tr>\n",
       "      <th>1</th>\n",
       "      <td>1080081</td>\n",
       "      <td>AU</td>\n",
       "      <td>NaN</td>\n",
       "      <td>facebook</td>\n",
       "      <td>desktop</td>\n",
       "      <td>Windows</td>\n",
       "      <td>1</td>\n",
       "      <td>2017-10-01 10:08:21</td>\n",
       "    </tr>\n",
       "    <tr>\n",
       "      <th>2</th>\n",
       "      <td>1080241</td>\n",
       "      <td>US</td>\n",
       "      <td>step-1</td>\n",
       "      <td>facebook</td>\n",
       "      <td>desktop</td>\n",
       "      <td>Macintosh</td>\n",
       "      <td>1</td>\n",
       "      <td>2017-10-01 19:01:47</td>\n",
       "    </tr>\n",
       "  </tbody>\n",
       "</table>\n",
       "</div>"
      ],
      "text/plain": [
       "   user_id country_id next_exam_type marketing_source signup_device  \\\n",
       "0  1079934         AU            NaN       conference       desktop   \n",
       "1  1080081         AU            NaN         facebook       desktop   \n",
       "2  1080241         US         step-1         facebook       desktop   \n",
       "\n",
       "   signup_os  activated       register_date  \n",
       "0    Windows          1 2017-10-01 01:55:57  \n",
       "1    Windows          1 2017-10-01 10:08:21  \n",
       "2  Macintosh          1 2017-10-01 19:01:47  "
      ]
     },
     "execution_count": 5,
     "metadata": {},
     "output_type": "execute_result"
    }
   ],
   "source": [
    "df_user_info.head(3)"
   ]
  },
  {
   "cell_type": "code",
   "execution_count": 6,
   "metadata": {},
   "outputs": [
    {
     "data": {
      "text/html": [
       "<div>\n",
       "<style>\n",
       "    .dataframe thead tr:only-child th {\n",
       "        text-align: right;\n",
       "    }\n",
       "\n",
       "    .dataframe thead th {\n",
       "        text-align: left;\n",
       "    }\n",
       "\n",
       "    .dataframe tbody tr th {\n",
       "        vertical-align: top;\n",
       "    }\n",
       "</style>\n",
       "<table border=\"1\" class=\"dataframe\">\n",
       "  <thead>\n",
       "    <tr style=\"text-align: right;\">\n",
       "      <th></th>\n",
       "      <th>user_id</th>\n",
       "      <th>created_at</th>\n",
       "      <th>referer</th>\n",
       "      <th>time_spent</th>\n",
       "      <th>chapter_id</th>\n",
       "      <th>subjects</th>\n",
       "    </tr>\n",
       "  </thead>\n",
       "  <tbody>\n",
       "    <tr>\n",
       "      <th>0</th>\n",
       "      <td>1079979</td>\n",
       "      <td>2017-10-01 05:26:30</td>\n",
       "      <td>library</td>\n",
       "      <td>NaN</td>\n",
       "      <td>274</td>\n",
       "      <td>['Occupational medicine，social medicine', 'Pne...</td>\n",
       "    </tr>\n",
       "    <tr>\n",
       "      <th>1</th>\n",
       "      <td>1079979</td>\n",
       "      <td>2017-10-01 05:26:37</td>\n",
       "      <td>library</td>\n",
       "      <td>NaN</td>\n",
       "      <td>269</td>\n",
       "      <td>['Imaging，radiotherapy，radiation protection', ...</td>\n",
       "    </tr>\n",
       "    <tr>\n",
       "      <th>2</th>\n",
       "      <td>1079946</td>\n",
       "      <td>2017-10-01 05:27:56</td>\n",
       "      <td>library</td>\n",
       "      <td>NaN</td>\n",
       "      <td>622</td>\n",
       "      <td>['Infectiology', 'Otolaryngology', 'Pediatrics']</td>\n",
       "    </tr>\n",
       "  </tbody>\n",
       "</table>\n",
       "</div>"
      ],
      "text/plain": [
       "   user_id          created_at  referer  time_spent  chapter_id  \\\n",
       "0  1079979 2017-10-01 05:26:30  library         NaN         274   \n",
       "1  1079979 2017-10-01 05:26:37  library         NaN         269   \n",
       "2  1079946 2017-10-01 05:27:56  library         NaN         622   \n",
       "\n",
       "                                            subjects  \n",
       "0  ['Occupational medicine，social medicine', 'Pne...  \n",
       "1  ['Imaging，radiotherapy，radiation protection', ...  \n",
       "2   ['Infectiology', 'Otolaryngology', 'Pediatrics']  "
      ]
     },
     "execution_count": 6,
     "metadata": {},
     "output_type": "execute_result"
    }
   ],
   "source": [
    "df_chapters_read.head(3)"
   ]
  },
  {
   "cell_type": "code",
   "execution_count": 7,
   "metadata": {
    "scrolled": true
   },
   "outputs": [
    {
     "data": {
      "text/html": [
       "<div>\n",
       "<style>\n",
       "    .dataframe thead tr:only-child th {\n",
       "        text-align: right;\n",
       "    }\n",
       "\n",
       "    .dataframe thead th {\n",
       "        text-align: left;\n",
       "    }\n",
       "\n",
       "    .dataframe tbody tr th {\n",
       "        vertical-align: top;\n",
       "    }\n",
       "</style>\n",
       "<table border=\"1\" class=\"dataframe\">\n",
       "  <thead>\n",
       "    <tr style=\"text-align: right;\">\n",
       "      <th></th>\n",
       "      <th>user_id</th>\n",
       "      <th>question_id</th>\n",
       "      <th>answer_id</th>\n",
       "      <th>collection_id</th>\n",
       "      <th>created_at</th>\n",
       "      <th>was_answer_correct</th>\n",
       "      <th>is_completed</th>\n",
       "      <th>has_given_up</th>\n",
       "      <th>time_spent</th>\n",
       "      <th>used_highlight</th>\n",
       "      <th>used_case_highlight</th>\n",
       "      <th>used_hint_as_help</th>\n",
       "      <th>used_hint_as_nonsense</th>\n",
       "      <th>chapter_ids</th>\n",
       "    </tr>\n",
       "  </thead>\n",
       "  <tbody>\n",
       "    <tr>\n",
       "      <th>0</th>\n",
       "      <td>1086402</td>\n",
       "      <td>80</td>\n",
       "      <td>403.0</td>\n",
       "      <td>65022</td>\n",
       "      <td>2017-10-19 06:01:58</td>\n",
       "      <td>1</td>\n",
       "      <td>1</td>\n",
       "      <td>0</td>\n",
       "      <td>85</td>\n",
       "      <td>0</td>\n",
       "      <td>0</td>\n",
       "      <td>0</td>\n",
       "      <td>0</td>\n",
       "      <td>[288]</td>\n",
       "    </tr>\n",
       "    <tr>\n",
       "      <th>1</th>\n",
       "      <td>1102210</td>\n",
       "      <td>2202</td>\n",
       "      <td>NaN</td>\n",
       "      <td>87830</td>\n",
       "      <td>2017-11-29 05:26:42</td>\n",
       "      <td>0</td>\n",
       "      <td>1</td>\n",
       "      <td>1</td>\n",
       "      <td>3</td>\n",
       "      <td>0</td>\n",
       "      <td>0</td>\n",
       "      <td>0</td>\n",
       "      <td>0</td>\n",
       "      <td>[1304, 29, 1155, 1313, 1343, 25]</td>\n",
       "    </tr>\n",
       "    <tr>\n",
       "      <th>2</th>\n",
       "      <td>1101933</td>\n",
       "      <td>692</td>\n",
       "      <td>4112.0</td>\n",
       "      <td>86026</td>\n",
       "      <td>2017-11-25 06:50:36</td>\n",
       "      <td>1</td>\n",
       "      <td>1</td>\n",
       "      <td>0</td>\n",
       "      <td>5</td>\n",
       "      <td>0</td>\n",
       "      <td>0</td>\n",
       "      <td>0</td>\n",
       "      <td>0</td>\n",
       "      <td>[1189]</td>\n",
       "    </tr>\n",
       "  </tbody>\n",
       "</table>\n",
       "</div>"
      ],
      "text/plain": [
       "   user_id  question_id  answer_id  collection_id          created_at  \\\n",
       "0  1086402           80      403.0          65022 2017-10-19 06:01:58   \n",
       "1  1102210         2202        NaN          87830 2017-11-29 05:26:42   \n",
       "2  1101933          692     4112.0          86026 2017-11-25 06:50:36   \n",
       "\n",
       "   was_answer_correct  is_completed  has_given_up  time_spent  used_highlight  \\\n",
       "0                   1             1             0          85               0   \n",
       "1                   0             1             1           3               0   \n",
       "2                   1             1             0           5               0   \n",
       "\n",
       "   used_case_highlight  used_hint_as_help  used_hint_as_nonsense  \\\n",
       "0                    0                  0                      0   \n",
       "1                    0                  0                      0   \n",
       "2                    0                  0                      0   \n",
       "\n",
       "                        chapter_ids  \n",
       "0                             [288]  \n",
       "1  [1304, 29, 1155, 1313, 1343, 25]  \n",
       "2                            [1189]  "
      ]
     },
     "execution_count": 7,
     "metadata": {},
     "output_type": "execute_result"
    }
   ],
   "source": [
    "df_questions_read.head(3)"
   ]
  },
  {
   "cell_type": "code",
   "execution_count": 8,
   "metadata": {
    "scrolled": true
   },
   "outputs": [
    {
     "data": {
      "text/html": [
       "<div>\n",
       "<style>\n",
       "    .dataframe thead tr:only-child th {\n",
       "        text-align: right;\n",
       "    }\n",
       "\n",
       "    .dataframe thead th {\n",
       "        text-align: left;\n",
       "    }\n",
       "\n",
       "    .dataframe tbody tr th {\n",
       "        vertical-align: top;\n",
       "    }\n",
       "</style>\n",
       "<table border=\"1\" class=\"dataframe\">\n",
       "  <thead>\n",
       "    <tr style=\"text-align: right;\">\n",
       "      <th></th>\n",
       "      <th>user_id</th>\n",
       "      <th>code_activation</th>\n",
       "    </tr>\n",
       "  </thead>\n",
       "  <tbody>\n",
       "    <tr>\n",
       "      <th>0</th>\n",
       "      <td>1079921</td>\n",
       "      <td>2017-10-01 00:58:03</td>\n",
       "    </tr>\n",
       "    <tr>\n",
       "      <th>1</th>\n",
       "      <td>1079933</td>\n",
       "      <td>2017-10-01 01:51:48</td>\n",
       "    </tr>\n",
       "    <tr>\n",
       "      <th>2</th>\n",
       "      <td>1079985</td>\n",
       "      <td>2017-10-01 05:39:42</td>\n",
       "    </tr>\n",
       "  </tbody>\n",
       "</table>\n",
       "</div>"
      ],
      "text/plain": [
       "   user_id     code_activation\n",
       "0  1079921 2017-10-01 00:58:03\n",
       "1  1079933 2017-10-01 01:51:48\n",
       "2  1079985 2017-10-01 05:39:42"
      ]
     },
     "execution_count": 8,
     "metadata": {},
     "output_type": "execute_result"
    }
   ],
   "source": [
    "df_code_activations.head(3)"
   ]
  },
  {
   "cell_type": "markdown",
   "metadata": {},
   "source": [
    "## Data exploration and cleaning"
   ]
  },
  {
   "cell_type": "markdown",
   "metadata": {},
   "source": [
    "### User info table"
   ]
  },
  {
   "cell_type": "markdown",
   "metadata": {},
   "source": [
    "There are a significant number of users which are not activated - more discussion on this below"
   ]
  },
  {
   "cell_type": "code",
   "execution_count": 9,
   "metadata": {},
   "outputs": [
    {
     "data": {
      "text/plain": [
       "1    35588\n",
       "0     8195\n",
       "Name: activated, dtype: int64"
      ]
     },
     "execution_count": 9,
     "metadata": {},
     "output_type": "execute_result"
    }
   ],
   "source": [
    "df_user_info['activated'].value_counts()"
   ]
  },
  {
   "cell_type": "markdown",
   "metadata": {},
   "source": [
    "The majority of users do not have a known marketing source, this needs a reasonable treatment"
   ]
  },
  {
   "cell_type": "code",
   "execution_count": 10,
   "metadata": {
    "scrolled": true
   },
   "outputs": [
    {
     "data": {
      "text/plain": [
       "unknown              24538\n",
       "facebook              6415\n",
       "friends               4567\n",
       "advertisement         2417\n",
       "google                1813\n",
       "press_online          1339\n",
       "university             908\n",
       "conference             638\n",
       "other                  475\n",
       "youtube                324\n",
       "students_work          287\n",
       "student_committee       27\n",
       "library                 20\n",
       "flyer                   13\n",
       "amazon                   1\n",
       "bookstore                1\n",
       "Name: marketing_source, dtype: int64"
      ]
     },
     "execution_count": 10,
     "metadata": {},
     "output_type": "execute_result"
    }
   ],
   "source": [
    "df_user_info['marketing_source'].fillna(\"unknown\").value_counts()"
   ]
  },
  {
   "cell_type": "markdown",
   "metadata": {},
   "source": [
    "### Non-attributed and un-activated users\n",
    "- Here we investigate the un-activated users, and those with no marketing_source\n",
    "- These users may need to be removed, or they could be from organic sources (no marketing action involved) \n",
    "- If they are from organic sources, they could provide a good benchmark to rank the marketing channels against"
   ]
  },
  {
   "cell_type": "code",
   "execution_count": 11,
   "metadata": {},
   "outputs": [
    {
     "name": "stdout",
     "output_type": "stream",
     "text": [
      "Percentage of unactivated users which have no marketing_source: 97.47%\n",
      "Percentage of users with no marketing_source which have not activated: 32.55%\n"
     ]
    }
   ],
   "source": [
    "# number of users which are not activated and have no marketing_source\n",
    "num_unactivated_nullmartketing_users = \\\n",
    "    len(df_user_info[(df_user_info['activated']==0) & (pd.isnull(df_user_info['marketing_source']))])\n",
    "    \n",
    "# number of users where marketing_source is empty    \n",
    "num_nullmarketing_users = len(df_user_info[pd.isnull(df_user_info['marketing_source'])])\n",
    "    \n",
    "# number users which are not activated\n",
    "num_unactivated_users = len(df_user_info[df_user_info['activated']==0])\n",
    "\n",
    "pct_unactivated_users_with_nomarketing = \\\n",
    "    (num_unactivated_nullmartketing_users / \\\n",
    "    num_unactivated_users) * 100\n",
    "    \n",
    "pct_nomarketing_of_unactivated_users = \\\n",
    "    (num_unactivated_nullmartketing_users / \\\n",
    "    num_nullmarketing_users) * 100\n",
    "    \n",
    "print(\"Percentage of unactivated users which have no marketing_source: {}%\"\\\n",
    "      .format(round(pct_unactivated_users_with_nomarketing, 2)))\n",
    "\n",
    "print(\"Percentage of users with no marketing_source which have not activated: {}%\"\\\n",
    "      .format(round(pct_nomarketing_of_unactivated_users, 2)))\n",
    "\n",
    "# Important to check which null marketing users actually use the service"
   ]
  },
  {
   "cell_type": "code",
   "execution_count": 12,
   "metadata": {},
   "outputs": [
    {
     "data": {
      "text/html": [
       "<div>\n",
       "<style>\n",
       "    .dataframe thead tr:only-child th {\n",
       "        text-align: right;\n",
       "    }\n",
       "\n",
       "    .dataframe thead th {\n",
       "        text-align: left;\n",
       "    }\n",
       "\n",
       "    .dataframe tbody tr th {\n",
       "        vertical-align: top;\n",
       "    }\n",
       "</style>\n",
       "<table border=\"1\" class=\"dataframe\">\n",
       "  <thead>\n",
       "    <tr style=\"text-align: right;\">\n",
       "      <th></th>\n",
       "      <th>activated</th>\n",
       "      <th>user_id</th>\n",
       "      <th>pct_activated</th>\n",
       "    </tr>\n",
       "    <tr>\n",
       "      <th>marketing_source</th>\n",
       "      <th></th>\n",
       "      <th></th>\n",
       "      <th></th>\n",
       "    </tr>\n",
       "  </thead>\n",
       "  <tbody>\n",
       "    <tr>\n",
       "      <th>advertisement</th>\n",
       "      <td>2388</td>\n",
       "      <td>2417</td>\n",
       "      <td>98.80</td>\n",
       "    </tr>\n",
       "    <tr>\n",
       "      <th>amazon</th>\n",
       "      <td>1</td>\n",
       "      <td>1</td>\n",
       "      <td>100.00</td>\n",
       "    </tr>\n",
       "    <tr>\n",
       "      <th>bookstore</th>\n",
       "      <td>1</td>\n",
       "      <td>1</td>\n",
       "      <td>100.00</td>\n",
       "    </tr>\n",
       "    <tr>\n",
       "      <th>conference</th>\n",
       "      <td>627</td>\n",
       "      <td>638</td>\n",
       "      <td>98.28</td>\n",
       "    </tr>\n",
       "    <tr>\n",
       "      <th>facebook</th>\n",
       "      <td>6366</td>\n",
       "      <td>6415</td>\n",
       "      <td>99.24</td>\n",
       "    </tr>\n",
       "    <tr>\n",
       "      <th>flyer</th>\n",
       "      <td>13</td>\n",
       "      <td>13</td>\n",
       "      <td>100.00</td>\n",
       "    </tr>\n",
       "    <tr>\n",
       "      <th>friends</th>\n",
       "      <td>4512</td>\n",
       "      <td>4567</td>\n",
       "      <td>98.80</td>\n",
       "    </tr>\n",
       "    <tr>\n",
       "      <th>google</th>\n",
       "      <td>1788</td>\n",
       "      <td>1813</td>\n",
       "      <td>98.62</td>\n",
       "    </tr>\n",
       "    <tr>\n",
       "      <th>library</th>\n",
       "      <td>20</td>\n",
       "      <td>20</td>\n",
       "      <td>100.00</td>\n",
       "    </tr>\n",
       "    <tr>\n",
       "      <th>other</th>\n",
       "      <td>472</td>\n",
       "      <td>475</td>\n",
       "      <td>99.37</td>\n",
       "    </tr>\n",
       "    <tr>\n",
       "      <th>press_online</th>\n",
       "      <td>1318</td>\n",
       "      <td>1339</td>\n",
       "      <td>98.43</td>\n",
       "    </tr>\n",
       "    <tr>\n",
       "      <th>student_committee</th>\n",
       "      <td>27</td>\n",
       "      <td>27</td>\n",
       "      <td>100.00</td>\n",
       "    </tr>\n",
       "    <tr>\n",
       "      <th>students_work</th>\n",
       "      <td>287</td>\n",
       "      <td>287</td>\n",
       "      <td>100.00</td>\n",
       "    </tr>\n",
       "    <tr>\n",
       "      <th>university</th>\n",
       "      <td>899</td>\n",
       "      <td>908</td>\n",
       "      <td>99.01</td>\n",
       "    </tr>\n",
       "    <tr>\n",
       "      <th>youtube</th>\n",
       "      <td>319</td>\n",
       "      <td>324</td>\n",
       "      <td>98.46</td>\n",
       "    </tr>\n",
       "  </tbody>\n",
       "</table>\n",
       "</div>"
      ],
      "text/plain": [
       "                   activated  user_id  pct_activated\n",
       "marketing_source                                    \n",
       "advertisement           2388     2417          98.80\n",
       "amazon                     1        1         100.00\n",
       "bookstore                  1        1         100.00\n",
       "conference               627      638          98.28\n",
       "facebook                6366     6415          99.24\n",
       "flyer                     13       13         100.00\n",
       "friends                 4512     4567          98.80\n",
       "google                  1788     1813          98.62\n",
       "library                   20       20         100.00\n",
       "other                    472      475          99.37\n",
       "press_online            1318     1339          98.43\n",
       "student_committee         27       27         100.00\n",
       "students_work            287      287         100.00\n",
       "university               899      908          99.01\n",
       "youtube                  319      324          98.46"
      ]
     },
     "execution_count": 12,
     "metadata": {},
     "output_type": "execute_result"
    }
   ],
   "source": [
    "# look at the activation rates per channel\n",
    "df_pct_activated_per_channel = \\\n",
    "    df_user_info.groupby('marketing_source').agg({\"activated\":\"sum\", \"user_id\":\"count\"})\n",
    "    \n",
    "df_pct_activated_per_channel['pct_activated'] = \\\n",
    "    round((df_pct_activated_per_channel['activated'] / df_pct_activated_per_channel['user_id'])*100, 2)\n",
    "    \n",
    "df_pct_activated_per_channel # all channels have nearly 100% activation rates"
   ]
  },
  {
   "cell_type": "markdown",
   "metadata": {},
   "source": [
    "#### In summary:\n",
    "- Nearly all unactivated users have no marketing_source, which is curious\n",
    "- Just one third of users with no marketing_source have not activated.\n",
    "- Some of the no marketing_source users have activity in the other tables (chapters and questions)\n",
    "- All other marketing sources have (close to) 100% activation rates\n",
    "\n",
    "#### Based on this, we will assume:\n",
    "- Un-activated users do not contain any useful information,so we can remove them\n",
    "- We should give the activated users with no marketing_source the tag 'unknown', as these could be organic users, and may provide a helpful benchmark to rank the other channels"
   ]
  },
  {
   "cell_type": "code",
   "execution_count": 13,
   "metadata": {},
   "outputs": [],
   "source": [
    "# removing un-activated users \n",
    "df_user_info = df_user_info[df_user_info['activated']==1]\n",
    "df_user_info['marketing_source'] = \\\n",
    "    df_user_info['marketing_source'].loc[:].fillna(\"unknown\")"
   ]
  },
  {
   "cell_type": "markdown",
   "metadata": {},
   "source": [
    "## Registrations and usage per day"
   ]
  },
  {
   "cell_type": "code",
   "execution_count": 14,
   "metadata": {},
   "outputs": [
    {
     "data": {
      "text/plain": [
       "<matplotlib.legend.Legend at 0x7f32d77e8da0>"
      ]
     },
     "execution_count": 14,
     "metadata": {},
     "output_type": "execute_result"
    },
    {
     "data": {
      "image/png": "[encoded data removed]",
      "text/plain": [
       "<matplotlib.figure.Figure at 0x7f32d2e9fba8>"
      ]
     },
     "metadata": {},
     "output_type": "display_data"
    }
   ],
   "source": [
    "f = plt.figure(figsize=(9,13))\n",
    "ax = f.add_subplot(311)\n",
    "ax1 = f.add_subplot(312, sharex=ax)\n",
    "ax2 = f.add_subplot(313, sharex=ax)\n",
    "\n",
    "# Plotting timeline of how many registrations per day\n",
    "df_user_info['register_day'] = df_user_info['register_date'].dt.date\n",
    "df_chapters_read['read_day'] = df_chapters_read['created_at'].dt.date\n",
    "df_questions_read['read_day'] = df_questions_read['created_at'].dt.date\n",
    "users_per_day = df_user_info.groupby(\"register_day\")['user_id'].nunique()\n",
    "\n",
    "#plot users registering per day\n",
    "ax.plot(users_per_day.index, users_per_day.values, label=\"num_new_users\")\n",
    "ax.tick_params(axis=\"both\", labelsize=14)\n",
    "ax.set_ylabel(\"Number of registered users\", size=13)\n",
    "ax.set_title(\"Number of registrations per day\", size=16)\n",
    "ax.legend()\n",
    "\n",
    "# plot users reading chapters per day\n",
    "ax1_1 = ax1.twinx()\n",
    "chapters_users_per_day = df_chapters_read.groupby(\"read_day\").agg({'user_id':'nunique', \"chapter_id\":\"count\"})\n",
    "ax1.plot(chapters_users_per_day.index, chapters_users_per_day['user_id'], label=\"num_users\")\n",
    "ax1_1.plot(chapters_users_per_day.index, chapters_users_per_day['chapter_id'], label=\"num_chapters_read\", color=\"firebrick\")\n",
    "ax1.tick_params(axis=\"both\", labelsize=14)\n",
    "ax1_1.tick_params(axis=\"both\", labelsize=14)\n",
    "ax1.set_ylabel(\"Number of readers\", size=13)\n",
    "ax1_1.set_ylabel(\"Number of chapters read\", size=13)\n",
    "ax1.set_title(\"Number of chapter readers and number of chapters read\", size=16)\n",
    "ax1.legend(loc=2)\n",
    "ax1_1.legend(loc=9)\n",
    "\n",
    "#plot users answering questions per day\n",
    "ax2_2 = ax2.twinx()\n",
    "questions_users_per_day = df_questions_read.groupby(\"read_day\").agg({'user_id':'nunique', \"question_id\":\"count\"})\n",
    "ax2.plot(chapters_users_per_day.index, questions_users_per_day['user_id'], label=\"num_users\")\n",
    "ax2_2.plot(chapters_users_per_day.index, questions_users_per_day['question_id'], label=\"num_questions_read\", color=\"firebrick\")\n",
    "ax2.tick_params(axis=\"both\", labelsize=14)\n",
    "ax2_2.tick_params(axis=\"both\", labelsize=14)\n",
    "ax2.set_ylabel(\"Number of question users\", size=13)\n",
    "ax2_2.set_ylabel(\"Number of questions read\", size=13)\n",
    "ax2.set_title(\"Number of question users and number of questions read\", size=16)\n",
    "ax2.legend(loc=2)\n",
    "ax2_2.legend(loc=9)"
   ]
  },
  {
   "cell_type": "markdown",
   "metadata": {},
   "source": [
    "There is a sharp increase in registrations on the 24th of October. However, this is a cross-channel increase (all channels increase by the same amount), so it is either as a result of a cross-channel promotion, or as a result of the dataset sampling. In either case, we may need to bear this in mind when creating our model.\n",
    "\n",
    "\n",
    "For the first half of the dataset, the trend of chapters read and questions answered generally follows that of the number of registrations. However, it appears that the usage per user increases from the beginning of 2018 onward. This is worth bearing in mind, and investigating in the future if this extra activity is from the new users or from the existing."
   ]
  },
  {
   "cell_type": "code",
   "execution_count": 15,
   "metadata": {},
   "outputs": [
    {
     "data": {
      "text/plain": [
       "vesikel    511444\n",
       "library    232172\n",
       "walk        49800\n",
       "unknown      1824\n",
       "public        186\n",
       "Name: referer, dtype: int64"
      ]
     },
     "execution_count": 15,
     "metadata": {},
     "output_type": "execute_result"
    }
   ],
   "source": [
    "#most referers are the mobile app\n",
    "df_chapters_read['referer'].value_counts()"
   ]
  },
  {
   "cell_type": "markdown",
   "metadata": {},
   "source": [
    "## Investigating definition of 'active user'\n",
    "- Definition could include code activations:\n",
    "    - Vast majority of users in the set only activate one code. \n",
    "\n",
    "- Need to investigate for how many days these single-code users are answering questions. \n",
    "- There could be users which are active for longer, but do not buy a code."
   ]
  },
  {
   "cell_type": "code",
   "execution_count": 16,
   "metadata": {},
   "outputs": [
    {
     "data": {
      "image/png": "[encoded data removed]",
      "text/plain": [
       "<matplotlib.figure.Figure at 0x7f32d2e9f128>"
      ]
     },
     "metadata": {},
     "output_type": "display_data"
    }
   ],
   "source": [
    "# plot how many codes each user activates\n",
    "code_activations_per_user = df_code_activations.groupby(\"user_id\").count()['code_activation']\n",
    "fig, ax = plt.subplots(figsize=(8,5))\n",
    "ax.hist(code_activations_per_user, \n",
    "        align=\"left\", \n",
    "        bins=[x for x in range(0, code_activations_per_user.max()+1)],\n",
    "       width=0.95)\n",
    "ax.tick_params(labelsize=14, axis=\"both\")\n",
    "ax.set_title(\"Histogram of number of code activations per user\", size=16)\n",
    "ax.set_ylabel(\"Number of occurrences\", size=14)\n",
    "ax.set_xlabel(\"Number of code activations\", size=14)\n",
    "ax.set_xlim(0, code_activations_per_user.max()+1)\n",
    "plt.show()"
   ]
  },
  {
   "cell_type": "markdown",
   "metadata": {},
   "source": [
    "### Checking activity of users with one code activation\n",
    "- There are ~1000 single-code users with more than 5 days of question activity\n",
    "    - This is a strange behaivour, and seems contrary to the definitions provided\n",
    "- There are also ~2000 single-code users with more than 5 days of chapter activity\n",
    "    - Also a strange behaviour given the defnitions\n",
    "    \n",
    "    \n",
    "- As a result, just checking for code activations is not sufficient\n",
    "- Definition of active user will also include questions answered and chapters read at least 5 days on from the signup date"
   ]
  },
  {
   "cell_type": "code",
   "execution_count": 17,
   "metadata": {},
   "outputs": [],
   "source": [
    "single_code_users = code_activations_per_user[code_activations_per_user==1].index.tolist()"
   ]
  },
  {
   "cell_type": "code",
   "execution_count": 18,
   "metadata": {
    "scrolled": true
   },
   "outputs": [
    {
     "name": "stdout",
     "output_type": "stream",
     "text": [
      "There are 1012 user_ids which have only redeemed 1 code, but answered questions more than 5 days apart\n",
      "The median number of questions answered by those users is: 74\n"
     ]
    }
   ],
   "source": [
    "df_single_code_user_questions = \\\n",
    "    df_questions_read[df_questions_read['user_id'].isin(single_code_users)]\n",
    "    \n",
    "df_user_activity_times = df_single_code_user_questions.groupby(\"user_id\").agg({\"created_at\":[\"max\", \"min\"], \"question_id\":\"count\"})\n",
    "df_user_activity_times['activity_time'] = df_user_activity_times['created_at']['max'] - df_user_activity_times['created_at']['min']\n",
    "df_user_activity_times['num_activity_days'] = df_user_activity_times['activity_time'].dt.days\n",
    "\n",
    "df_singlecode_morethan5days_users = \\\n",
    "    df_user_activity_times[df_user_activity_times['num_activity_days']>5]\n",
    "    \n",
    "print(\"\"\"There are {} user_ids which have only redeemed 1 code, \\\n",
    "but answered questions more than 5 days apart\"\"\"\\\n",
    "      .format(len(df_singlecode_morethan5days_users)))\n",
    "\n",
    "median_singlecode_num_questions = df_singlecode_morethan5days_users['question_id']['count'].median()\n",
    "\n",
    "print(\"The median number of questions answered by those users is: {}\".format(int(median_singlecode_num_questions)))"
   ]
  },
  {
   "cell_type": "code",
   "execution_count": 19,
   "metadata": {},
   "outputs": [
    {
     "name": "stdout",
     "output_type": "stream",
     "text": [
      "There are 2027 user_ids which have only redeemed 1 code, but answered questions more than 5 days apart\n",
      "The median number of chapters by those users is: 52\n"
     ]
    }
   ],
   "source": [
    "df_single_code_user_chapters = \\\n",
    "    df_chapters_read[df_chapters_read['user_id'].isin(single_code_users)]\n",
    "    \n",
    "df_user_chapter_times = df_single_code_user_chapters.groupby(\"user_id\").agg({\"created_at\":[\"max\", \"min\"], \"chapter_id\":\"count\"})\n",
    "df_user_chapter_times['activity_time'] = df_user_chapter_times['created_at']['max'] - df_user_chapter_times['created_at']['min']\n",
    "df_user_chapter_times['num_activity_days'] = df_user_chapter_times['activity_time'].dt.days\n",
    "\n",
    "df_singlecode_morethan5days_chapter_users = \\\n",
    "    df_user_chapter_times[df_user_chapter_times['num_activity_days']>5]\n",
    "    \n",
    "print(\"\"\"There are {} user_ids which have only redeemed 1 code, \\\n",
    "but answered questions more than 5 days apart\"\"\"\\\n",
    "      .format(len(df_singlecode_morethan5days_chapter_users)))\n",
    "\n",
    "median_singlecode_num_questions = df_singlecode_morethan5days_chapter_users['chapter_id']['count'].median()\n",
    "\n",
    "print(\"The median number of chapters by those users is: {}\".format(int(median_singlecode_num_questions)))"
   ]
  },
  {
   "cell_type": "markdown",
   "metadata": {},
   "source": [
    "## Active user definition\n",
    "Definition needs to include users which have only activated one code, but have chapter and question activity\n",
    "- As the median number of questions answered by these users is 74, we will eyeball this to 20 questions answered after the initial 5 days. This can be changed later\n",
    "- The median number of chapters read is 52, so this will be reduced by estimation to 5 chapters read after the initial 5 days\n",
    "\n",
    "The definition will have 2 conditions. If a user meets either one of these conditions, then they will be classified as 'active'\n",
    "    - The user redeems more than two codes at least 6 days after their signup date\n",
    "    OR\n",
    "    - The user reads 20 questions after their trial period expires, AND have activated one code\n",
    "        AND\n",
    "    - The user reads at least 5 chapters after their trial period expires, AND have activated one code"
   ]
  },
  {
   "cell_type": "code",
   "execution_count": 20,
   "metadata": {},
   "outputs": [],
   "source": [
    "# list of users from condition 1\n",
    "multiple_code_users = []\n",
    "for user_id in df_user_info['user_id'].unique():\n",
    "    signup_date = df_user_info.loc[df_user_info['user_id']==user_id]['register_date'].values[0]\n",
    "    next_code_time = signup_date + pd.Timedelta(\"6 days\")\n",
    "    df_user_codes = \\\n",
    "        df_code_activations[df_code_activations['user_id']==user_id].sort_values(\"code_activation\")\n",
    "    df_user_codes = df_user_codes[df_user_codes['code_activation']>=next_code_time]\n",
    "    if len(df_user_codes) >= 2:\n",
    "        multiple_code_users.append(user_id)\n",
    "        \n",
    "#list of users from condition 2\n",
    "morethan5days_users = \\\n",
    "    df_singlecode_morethan5days_users[\\\n",
    "    df_singlecode_morethan5days_users['question_id']['count'] >= 20]\\\n",
    "    .index.tolist()\n",
    "\n",
    "#list of users from condition 3\n",
    "morethan5days_chapter_users = \\\n",
    "    df_singlecode_morethan5days_chapter_users[\\\n",
    "    df_singlecode_morethan5days_chapter_users['chapter_id']['count'] >= 5]\\\n",
    "    .index.tolist()"
   ]
  },
  {
   "cell_type": "code",
   "execution_count": 22,
   "metadata": {},
   "outputs": [
    {
     "data": {
      "text/plain": [
       "972"
      ]
     },
     "execution_count": 22,
     "metadata": {},
     "output_type": "execute_result"
    }
   ],
   "source": [
    "active_users = set(multiple_code_users + list(set(morethan5days_users).intersection(morethan5days_chapter_users)))\n",
    "len(active_users)"
   ]
  },
  {
   "cell_type": "markdown",
   "metadata": {},
   "source": [
    "## Prediction outline\n",
    "We will create a binary flag for 'active user' using the definition given above. Following this, we will:\n",
    "- Attempt a binary prediction/classification of a user into active/inactive based on the first 2/3 days of usage\n",
    "- For the active users, we will then try to predict over the next 6 months:\n",
    "    - Will they activate multiple codes\n",
    "    - How many chapters they will read\n",
    "    - How many questions they will answer"
   ]
  },
  {
   "cell_type": "markdown",
   "metadata": {},
   "source": [
    "## Creating prediction matrix\n",
    "- We will only consider users which appear in the questions_read table for inclusion, as there are too many users which did not make it that far. It also may not make sense to target users which did not even use the question functionality of the product. These users could be targeted in a different, future analysis.\n",
    "- We will gather metrics for the first 3 days of each user's activity:\n",
    "    - 'num_questions_answered'\n",
    "    - 'num_unique_questions_answered', \n",
    "    - 'num_questions_repeated', \n",
    "    - 'num_correct_answers', \n",
    "    - 'num_incorrect_answers',\n",
    "    - 'frac_correct_answers', \n",
    "    - 'num_given_up',\n",
    "    - 'num_used_highlights_hints', \n",
    "    - 'num_questions_last_day', \n",
    "    - 'num_chapters_read', \n",
    "    - 'num_unique_chapters'\n",
    "    - 'num_chapters_repeated'"
   ]
  },
  {
   "cell_type": "code",
   "execution_count": 23,
   "metadata": {},
   "outputs": [],
   "source": [
    "first_days_results_list = []\n",
    "num_days = 3\n",
    "for user_id in df_questions_read['user_id'].unique():\n",
    "    #filter questions and chapters down to each user\n",
    "    df_user_questions = \\\n",
    "        df_questions_read[df_questions_read['user_id']==user_id].sort_values(\"created_at\")\n",
    "    df_user_chapters = \\\n",
    "        df_chapters_read[df_chapters_read[\"user_id\"] == user_id].sort_values(\"created_at\")\n",
    "        \n",
    "    #find the first time they use it, and num_days later    \n",
    "    first_use = df_user_questions['created_at'].values[0]\n",
    "    end_time = first_use + pd.Timedelta(\"{} days\".format(int(num_days)))\n",
    "    \n",
    "    # create dataframes for the first 2/3 (however many chosen) days\n",
    "    df_user_questions_first_days = \\\n",
    "        df_user_questions[df_user_questions[\"created_at\"] <= end_time]\n",
    "    if len(df_user_questions_first_days) == 0:\n",
    "        continue\n",
    "    df_user_chapters_first_days = \\\n",
    "        df_chapters_read[df_chapters_read[\"created_at\"] <= end_time]\n",
    "        \n",
    "    #statistics from the questions table\n",
    "    num_questions_answered = len(df_user_questions_first_days['question_id'].dropna())\n",
    "    num_unique_questions_answered = df_user_questions_first_days['question_id'].nunique()\n",
    "    num_questions_repeated = num_questions_answered - num_unique_questions_answered\n",
    "    num_correct_answers = df_user_questions_first_days['was_answer_correct'].sum()\n",
    "    num_incorrect_answers = num_questions_answered - num_correct_answers\n",
    "    frac_correct_answers = num_correct_answers / num_questions_answered\n",
    "    num_given_up = df_user_questions_first_days['has_given_up'].sum()\n",
    "    num_used_highlights_hints = df_user_questions_first_days['used_highlight'].sum() \\\n",
    "                              + df_user_questions_first_days['used_case_highlight'].sum() \\\n",
    "                              + df_user_questions_first_days['used_hint_as_help'].sum() \\\n",
    "                              + df_user_questions_first_days['used_hint_as_nonsense'].sum()  \n",
    "    num_questions_last_day = \\\n",
    "        len(df_user_questions_first_days[df_user_questions_first_days['created_at'] >= \n",
    "                                     end_time - pd.Timedelta(\"1 days\")])\n",
    "        \n",
    "    #statistics from the chapters table\n",
    "    num_chapters_read = len(df_user_chapters_first_days['chapter_id'].dropna())\n",
    "    num_unique_chapters = df_user_chapters_first_days['chapter_id'].nunique()\n",
    "    num_chapters_repeated = num_chapters_read - num_unique_chapters\n",
    "\n",
    "    # bring into an ordered list\n",
    "    user_results_list = [user_id, num_questions_answered, num_unique_questions_answered, num_questions_repeated,\n",
    "                        num_correct_answers, num_incorrect_answers, frac_correct_answers, num_given_up, \n",
    "                         num_used_highlights_hints, num_questions_last_day,\n",
    "                        num_chapters_read, num_unique_chapters, num_chapters_repeated] \n",
    "    #add to results list of lists\n",
    "    first_days_results_list.append(user_results_list)   \n",
    "    \n",
    "#make dataframe from list of lists    \n",
    "df_first_days = pd.DataFrame(first_days_results_list, \n",
    "                               columns=['user_id', 'num_questions_answered', \n",
    "                                        'num_unique_questions_answered', \n",
    "                                        'num_questions_repeated', 'num_correct_answers', \n",
    "                                        'num_incorrect_answers',\n",
    "                                        'frac_correct_answers', 'num_given_up',\n",
    "                                        'num_used_highlights_hints', \n",
    "                                        'num_questions_last_day', 'num_chapters_read', \n",
    "                                        'num_unique_chapters', 'num_chapters_repeated'])\n"
   ]
  },
  {
   "cell_type": "code",
   "execution_count": 24,
   "metadata": {},
   "outputs": [],
   "source": [
    "# add active_user column, and marketing_source column\n",
    "df_first_days['active_user'] = df_first_days['user_id'].apply(lambda user: 1 if user in active_users else 0)\n",
    "df_first_days = df_first_days.merge(df_user_info[['user_id', 'marketing_source']], on='user_id', how='left')"
   ]
  },
  {
   "cell_type": "code",
   "execution_count": 25,
   "metadata": {},
   "outputs": [
    {
     "data": {
      "text/plain": [
       "0    12353\n",
       "1      914\n",
       "Name: active_user, dtype: int64"
      ]
     },
     "execution_count": 25,
     "metadata": {},
     "output_type": "execute_result"
    }
   ],
   "source": [
    "# roughly 11% of users are classified as active under the current definition\n",
    "df_first_days['active_user'].value_counts()"
   ]
  },
  {
   "cell_type": "markdown",
   "metadata": {},
   "source": [
    "### Checking numbers of active users per channel\n",
    "- Important to compare this with any machine learning results we get later"
   ]
  },
  {
   "cell_type": "code",
   "execution_count": 26,
   "metadata": {
    "scrolled": true
   },
   "outputs": [
    {
     "data": {
      "text/html": [
       "<div>\n",
       "<style>\n",
       "    .dataframe thead tr:only-child th {\n",
       "        text-align: right;\n",
       "    }\n",
       "\n",
       "    .dataframe thead th {\n",
       "        text-align: left;\n",
       "    }\n",
       "\n",
       "    .dataframe tbody tr th {\n",
       "        vertical-align: top;\n",
       "    }\n",
       "</style>\n",
       "<table border=\"1\" class=\"dataframe\">\n",
       "  <thead>\n",
       "    <tr style=\"text-align: right;\">\n",
       "      <th></th>\n",
       "      <th>active_user</th>\n",
       "      <th>user_id</th>\n",
       "      <th>pct_active</th>\n",
       "    </tr>\n",
       "    <tr>\n",
       "      <th>marketing_source</th>\n",
       "      <th></th>\n",
       "      <th></th>\n",
       "      <th></th>\n",
       "    </tr>\n",
       "  </thead>\n",
       "  <tbody>\n",
       "    <tr>\n",
       "      <th>advertisement</th>\n",
       "      <td>42</td>\n",
       "      <td>831</td>\n",
       "      <td>5.05</td>\n",
       "    </tr>\n",
       "    <tr>\n",
       "      <th>amazon</th>\n",
       "      <td>0</td>\n",
       "      <td>1</td>\n",
       "      <td>0.00</td>\n",
       "    </tr>\n",
       "    <tr>\n",
       "      <th>bookstore</th>\n",
       "      <td>0</td>\n",
       "      <td>1</td>\n",
       "      <td>0.00</td>\n",
       "    </tr>\n",
       "    <tr>\n",
       "      <th>conference</th>\n",
       "      <td>34</td>\n",
       "      <td>255</td>\n",
       "      <td>13.33</td>\n",
       "    </tr>\n",
       "    <tr>\n",
       "      <th>facebook</th>\n",
       "      <td>69</td>\n",
       "      <td>2280</td>\n",
       "      <td>3.03</td>\n",
       "    </tr>\n",
       "    <tr>\n",
       "      <th>friends</th>\n",
       "      <td>259</td>\n",
       "      <td>1878</td>\n",
       "      <td>13.79</td>\n",
       "    </tr>\n",
       "    <tr>\n",
       "      <th>google</th>\n",
       "      <td>41</td>\n",
       "      <td>997</td>\n",
       "      <td>4.11</td>\n",
       "    </tr>\n",
       "    <tr>\n",
       "      <th>other</th>\n",
       "      <td>21</td>\n",
       "      <td>202</td>\n",
       "      <td>10.40</td>\n",
       "    </tr>\n",
       "    <tr>\n",
       "      <th>press_online</th>\n",
       "      <td>23</td>\n",
       "      <td>493</td>\n",
       "      <td>4.67</td>\n",
       "    </tr>\n",
       "    <tr>\n",
       "      <th>student_committee</th>\n",
       "      <td>0</td>\n",
       "      <td>1</td>\n",
       "      <td>0.00</td>\n",
       "    </tr>\n",
       "    <tr>\n",
       "      <th>students_work</th>\n",
       "      <td>2</td>\n",
       "      <td>22</td>\n",
       "      <td>9.09</td>\n",
       "    </tr>\n",
       "    <tr>\n",
       "      <th>university</th>\n",
       "      <td>38</td>\n",
       "      <td>281</td>\n",
       "      <td>13.52</td>\n",
       "    </tr>\n",
       "    <tr>\n",
       "      <th>unknown</th>\n",
       "      <td>381</td>\n",
       "      <td>5765</td>\n",
       "      <td>6.61</td>\n",
       "    </tr>\n",
       "    <tr>\n",
       "      <th>youtube</th>\n",
       "      <td>2</td>\n",
       "      <td>118</td>\n",
       "      <td>1.69</td>\n",
       "    </tr>\n",
       "  </tbody>\n",
       "</table>\n",
       "</div>"
      ],
      "text/plain": [
       "                   active_user  user_id  pct_active\n",
       "marketing_source                                   \n",
       "advertisement               42      831        5.05\n",
       "amazon                       0        1        0.00\n",
       "bookstore                    0        1        0.00\n",
       "conference                  34      255       13.33\n",
       "facebook                    69     2280        3.03\n",
       "friends                    259     1878       13.79\n",
       "google                      41      997        4.11\n",
       "other                       21      202       10.40\n",
       "press_online                23      493        4.67\n",
       "student_committee            0        1        0.00\n",
       "students_work                2       22        9.09\n",
       "university                  38      281       13.52\n",
       "unknown                    381     5765        6.61\n",
       "youtube                      2      118        1.69"
      ]
     },
     "execution_count": 26,
     "metadata": {},
     "output_type": "execute_result"
    }
   ],
   "source": [
    "marketing_sources_active_users = \\\n",
    "    df_first_days.groupby(\"marketing_source\").agg({\"active_user\":\"sum\", \"user_id\":\"nunique\"})\n",
    "    \n",
    "marketing_sources_active_users['pct_active'] = \\\n",
    "    round((marketing_sources_active_users['active_user']/ \\\n",
    "    marketing_sources_active_users['user_id'])*100, 2)\n",
    "marketing_sources_active_users"
   ]
  },
  {
   "cell_type": "markdown",
   "metadata": {},
   "source": [
    "We should drop those campaigns with under 50 user ids, as we won't be able to effectively evaluate these campaigns against the others without a more rigorous approach than the one we will employ here.\n",
    "\n",
    "As the 'unknown' category is by far the largest, any classifier will rank them as very important for identifying active users. However, any future marketing action should take these users into account, as they are by far the largest user group. As we have email addresses for these users, then we could target them with an email campaign.\n",
    "\n",
    "For now, we will keep the 'unknown' users in the mix. However, this would be a point to discuss with the stakeholders, to see if it is realistic to plan any marketing action with these users. If not, the classifier will perform better without them."
   ]
  },
  {
   "cell_type": "code",
   "execution_count": 27,
   "metadata": {},
   "outputs": [],
   "source": [
    "# find campaigns with under 50 users\n",
    "campaigns_under_50 = marketing_sources_active_users[marketing_sources_active_users['user_id']<50].index.tolist()\n",
    "\n",
    "# remove users with those campaigns, and those with 'unknown'\n",
    "df_first_days = df_first_days[~df_first_days['marketing_source'].isin(campaigns_under_50 )]"
   ]
  },
  {
   "cell_type": "code",
   "execution_count": 28,
   "metadata": {},
   "outputs": [],
   "source": [
    "# function to use any classifier to predict an output, and return predictions and coefficients of the model\n",
    "def predict_user_attribute(input_matrix, model, list_of_features, target_column, random_state, test_size, print_report=False):\n",
    "    \n",
    "    scaler = StandardScaler() #scale the features so we can look at the feature coefficients\n",
    "    scaled_X = scaler.fit_transform(input_matrix[list_of_features])\n",
    "\n",
    "    # gridsearch_active_users = GridSearchCV(model_active_users, model_param_set, refit=True, \\\n",
    "    # cv=StratifiedKFold(n_splits=n_kfold_splits, shuffle =True))\n",
    "\n",
    "    X_train_active_users, X_test_active_users, y_train_active_users, y_test_active_users = \\\n",
    "        train_test_split(scaled_X,\n",
    "                         input_matrix[target_column],\n",
    "                         test_size=0.2, random_state=random_state)\n",
    "\n",
    "    model.fit(X_train_active_users, y_train_active_users)\n",
    "\n",
    "    active_users_predictions = model.predict(X_test_active_users)\n",
    "    \n",
    "    df_predictions = pd.DataFrame()\n",
    "\n",
    "    df_predictions['prediction'] = active_users_predictions\n",
    "    df_predictions['actual'] = y_test_active_users.values\n",
    "    \n",
    "    if print_report:\n",
    "        print(classification_report(df_predictions['actual'],\n",
    "                                     df_predictions['prediction']))\n",
    "    if len(model.coef_) != 1:\n",
    "        coefficients = list(model.coef_)\n",
    "    else:\n",
    "        coefficients = model.coef_\n",
    "    model_coefficients = \\\n",
    "        pd.DataFrame(coefficients, columns=list_of_features)\n",
    "    \n",
    "    return df_predictions, model_coefficients"
   ]
  },
  {
   "cell_type": "markdown",
   "metadata": {},
   "source": [
    "### Model selection\n",
    "For classification, a Logistic Regression model has been used, for the following main reasons:\n",
    "- It has good performance on unbalanced classification through the class_weight=\"balanced\" parameter\n",
    "- It provides interpretable coefficients, which allows us to understand the importance of the different features\n",
    "\n",
    "\n",
    "For early prototyping steps, I prefer to stay away from deep learning, neural networks, or other 'black box' algorithms, as they do not give much visibility into why they are predicting the results they do. For a later version, this kind of approach would certainly be helpful."
   ]
  },
  {
   "cell_type": "code",
   "execution_count": 29,
   "metadata": {},
   "outputs": [],
   "source": [
    "df_marketing_indicators = pd.get_dummies(df_first_days['marketing_source'])\n",
    "df_active_user_prediction = \\\n",
    "    pd.concat([df_first_days, df_marketing_indicators], axis=1)\n",
    "\n",
    "prediction_features = \\\n",
    "    ['num_questions_answered', 'num_unique_questions_answered', \n",
    "     'num_questions_repeated', 'num_correct_answers', 'num_incorrect_answers', 'frac_correct_answers',\n",
    "     'num_given_up', 'num_used_highlights_hints', 'num_questions_last_day', \n",
    "     'num_chapters_read', 'num_unique_chapters', 'num_chapters_repeated']\n",
    "                                      \n",
    "marketing_source_dummy_features = df_marketing_indicators.columns.tolist()"
   ]
  },
  {
   "cell_type": "markdown",
   "metadata": {},
   "source": [
    "## Active user prediction results\n",
    "As the prediction was on a very imbalanced (roughly 8/1 inactive-active users), there are a few consequences:\n",
    "- Special treatment was required on the class weights\n",
    "- We have very low precision (number of correct vs number predicted) for the active user prediction (class 1)\n",
    "However, the classifier managed to successfully identify 61% of 'active' users according to our definition (recall).\n",
    "\n",
    "This is certainly something that can be optimised, by experimenting and then speaking with the marketing team. It would be ideal to maximise both precision and recall, but in reality there is likely to be a tradeoff:\n",
    "- If the marketing team wish to focus on maximising the number of users identified, we could work on maximising recall\n",
    "- If they are focused on spending budget conservatively, then we would focus on improving the recall score.\n",
    "\n",
    "There are several strategies which we could employ to improve the classifier:\n",
    "- Resampling the dataset to provide more balanced classes\n",
    "- Use more of an opaque \"black-box\" model (neural network or Random Forest) once we have a better understanding of our features"
   ]
  },
  {
   "cell_type": "code",
   "execution_count": 30,
   "metadata": {},
   "outputs": [
    {
     "name": "stdout",
     "output_type": "stream",
     "text": [
      "             precision    recall  f1-score   support\n",
      "\n",
      "          0       0.97      0.70      0.81      2473\n",
      "          1       0.14      0.70      0.24       176\n",
      "\n",
      "avg / total       0.92      0.70      0.77      2649\n",
      "\n"
     ]
    }
   ],
   "source": [
    "random_state = 1\n",
    "model_active_users = LogisticRegression(random_state=random_state, class_weight=\"balanced\")\n",
    "\n",
    "\n",
    "df_active_user_predictions, active_user_model_coefficients = \\\n",
    "    predict_user_attribute(df_active_user_prediction, \n",
    "                           model=model_active_users, \n",
    "                           list_of_features=prediction_features+marketing_source_dummy_features, \n",
    "                           target_column='active_user', \n",
    "                           random_state=random_state, \n",
    "                           test_size=0.2,\n",
    "                           print_report=True)"
   ]
  },
  {
   "cell_type": "markdown",
   "metadata": {},
   "source": [
    "Here we can look at our model coefficients to assess the importance of each feature. In a nutshell, a more positive number means that it was considered more important in classifying the positive (active user) cases. A stronger negative means it's more associated with the negative (inactive user) cases. This tradeoff can be characterised with a ROC (Receiver operating characteristic) curve.\n",
    "\n",
    "The classifier correctly identifies 64% of active users. However, it does this with only 20% precision - if targeting each user has a large cost, then precision would need to be improved. These odds are similar to random selection, and requires alot of improvement"
   ]
  },
  {
   "cell_type": "code",
   "execution_count": 31,
   "metadata": {},
   "outputs": [
    {
     "data": {
      "text/html": [
       "<div>\n",
       "<style>\n",
       "    .dataframe thead tr:only-child th {\n",
       "        text-align: right;\n",
       "    }\n",
       "\n",
       "    .dataframe thead th {\n",
       "        text-align: left;\n",
       "    }\n",
       "\n",
       "    .dataframe tbody tr th {\n",
       "        vertical-align: top;\n",
       "    }\n",
       "</style>\n",
       "<table border=\"1\" class=\"dataframe\">\n",
       "  <thead>\n",
       "    <tr style=\"text-align: right;\">\n",
       "      <th></th>\n",
       "      <th>num_questions_answered</th>\n",
       "      <th>num_unique_questions_answered</th>\n",
       "      <th>num_questions_repeated</th>\n",
       "      <th>num_correct_answers</th>\n",
       "      <th>num_incorrect_answers</th>\n",
       "      <th>frac_correct_answers</th>\n",
       "      <th>num_given_up</th>\n",
       "      <th>num_used_highlights_hints</th>\n",
       "      <th>num_questions_last_day</th>\n",
       "      <th>num_chapters_read</th>\n",
       "      <th>num_unique_chapters</th>\n",
       "      <th>num_chapters_repeated</th>\n",
       "    </tr>\n",
       "  </thead>\n",
       "  <tbody>\n",
       "    <tr>\n",
       "      <th>0</th>\n",
       "      <td>0.187977</td>\n",
       "      <td>0.252479</td>\n",
       "      <td>-0.203943</td>\n",
       "      <td>-0.245714</td>\n",
       "      <td>0.522102</td>\n",
       "      <td>0.478098</td>\n",
       "      <td>-0.283937</td>\n",
       "      <td>0.127934</td>\n",
       "      <td>0.089581</td>\n",
       "      <td>-0.114674</td>\n",
       "      <td>-0.030994</td>\n",
       "      <td>-0.114677</td>\n",
       "    </tr>\n",
       "  </tbody>\n",
       "</table>\n",
       "</div>"
      ],
      "text/plain": [
       "   num_questions_answered  num_unique_questions_answered  \\\n",
       "0                0.187977                       0.252479   \n",
       "\n",
       "   num_questions_repeated  num_correct_answers  num_incorrect_answers  \\\n",
       "0               -0.203943            -0.245714               0.522102   \n",
       "\n",
       "   frac_correct_answers  num_given_up  num_used_highlights_hints  \\\n",
       "0              0.478098     -0.283937                   0.127934   \n",
       "\n",
       "   num_questions_last_day  num_chapters_read  num_unique_chapters  \\\n",
       "0                0.089581          -0.114674            -0.030994   \n",
       "\n",
       "   num_chapters_repeated  \n",
       "0              -0.114677  "
      ]
     },
     "execution_count": 31,
     "metadata": {},
     "output_type": "execute_result"
    }
   ],
   "source": [
    "active_user_model_coefficients[prediction_features]"
   ]
  },
  {
   "cell_type": "markdown",
   "metadata": {},
   "source": [
    "The features which have an initially surprising behaviour are relating to the number of incorrect and correct answers. Users who have more incorrect answers are more likely to become active users.  \n",
    "- This could mean that assigning more advanced questions to new users from certain backgrounds could increase activity rates.\n",
    "More unsurprisingly, users that read plenty of questions in the first few days are more likely to become active users"
   ]
  },
  {
   "cell_type": "code",
   "execution_count": 62,
   "metadata": {},
   "outputs": [
    {
     "data": {
      "text/html": [
       "<div>\n",
       "<style>\n",
       "    .dataframe thead tr:only-child th {\n",
       "        text-align: right;\n",
       "    }\n",
       "\n",
       "    .dataframe thead th {\n",
       "        text-align: left;\n",
       "    }\n",
       "\n",
       "    .dataframe tbody tr th {\n",
       "        vertical-align: top;\n",
       "    }\n",
       "</style>\n",
       "<table border=\"1\" class=\"dataframe\">\n",
       "  <thead>\n",
       "    <tr style=\"text-align: right;\">\n",
       "      <th></th>\n",
       "      <th>advertisement</th>\n",
       "      <th>conference</th>\n",
       "      <th>facebook</th>\n",
       "      <th>friends</th>\n",
       "      <th>google</th>\n",
       "      <th>other</th>\n",
       "      <th>press_online</th>\n",
       "      <th>university</th>\n",
       "      <th>unknown</th>\n",
       "      <th>youtube</th>\n",
       "    </tr>\n",
       "  </thead>\n",
       "  <tbody>\n",
       "    <tr>\n",
       "      <th>0</th>\n",
       "      <td>0.579003</td>\n",
       "      <td>0.454333</td>\n",
       "      <td>0.737883</td>\n",
       "      <td>1.201285</td>\n",
       "      <td>0.527002</td>\n",
       "      <td>0.382154</td>\n",
       "      <td>0.431792</td>\n",
       "      <td>0.520175</td>\n",
       "      <td>1.283518</td>\n",
       "      <td>0.159053</td>\n",
       "    </tr>\n",
       "  </tbody>\n",
       "</table>\n",
       "</div>"
      ],
      "text/plain": [
       "   advertisement  conference  facebook   friends    google     other  \\\n",
       "0       0.579003    0.454333  0.737883  1.201285  0.527002  0.382154   \n",
       "\n",
       "   press_online  university   unknown   youtube  \n",
       "0      0.431792    0.520175  1.283518  0.159053  "
      ]
     },
     "execution_count": 62,
     "metadata": {},
     "output_type": "execute_result"
    }
   ],
   "source": [
    "active_user_model_coefficients[marketing_source_dummy_features]"
   ]
  },
  {
   "cell_type": "code",
   "execution_count": 65,
   "metadata": {},
   "outputs": [
    {
     "data": {
      "text/html": [
       "<div>\n",
       "<style>\n",
       "    .dataframe thead tr:only-child th {\n",
       "        text-align: right;\n",
       "    }\n",
       "\n",
       "    .dataframe thead th {\n",
       "        text-align: left;\n",
       "    }\n",
       "\n",
       "    .dataframe tbody tr th {\n",
       "        vertical-align: top;\n",
       "    }\n",
       "</style>\n",
       "<table border=\"1\" class=\"dataframe\">\n",
       "  <thead>\n",
       "    <tr style=\"text-align: right;\">\n",
       "      <th></th>\n",
       "      <th>advertisement</th>\n",
       "      <th>conference</th>\n",
       "      <th>facebook</th>\n",
       "      <th>friends</th>\n",
       "      <th>google</th>\n",
       "      <th>other</th>\n",
       "      <th>press_online</th>\n",
       "      <th>university</th>\n",
       "      <th>unknown</th>\n",
       "      <th>youtube</th>\n",
       "    </tr>\n",
       "  </thead>\n",
       "  <tbody>\n",
       "    <tr>\n",
       "      <th>0</th>\n",
       "      <td>5.05</td>\n",
       "      <td>13.33</td>\n",
       "      <td>3.03</td>\n",
       "      <td>13.79</td>\n",
       "      <td>4.11</td>\n",
       "      <td>10.4</td>\n",
       "      <td>4.67</td>\n",
       "      <td>13.52</td>\n",
       "      <td>6.61</td>\n",
       "      <td>1.69</td>\n",
       "    </tr>\n",
       "  </tbody>\n",
       "</table>\n",
       "</div>"
      ],
      "text/plain": [
       "   advertisement  conference  facebook  friends  google  other  press_online  \\\n",
       "0           5.05       13.33      3.03    13.79    4.11   10.4          4.67   \n",
       "\n",
       "   university  unknown  youtube  \n",
       "0       13.52     6.61     1.69  "
      ]
     },
     "execution_count": 65,
     "metadata": {},
     "output_type": "execute_result"
    }
   ],
   "source": [
    "#percentage of active users per channel\n",
    "percentage_active_per_channel = \\\n",
    "    pd.DataFrame(marketing_sources_active_users\\\n",
    "             .loc[marketing_source_dummy_features, 'pct_active']\\\n",
    "             .values.reshape(1, -1), columns=marketing_source_dummy_features)\n",
    "percentage_active_per_channel    "
   ]
  },
  {
   "cell_type": "markdown",
   "metadata": {},
   "source": [
    "Here is the model's ranking of the relative importance of the marketing campaigns for identifying the active users. It's important to note that the classifier will naturally rank the larger campaigns as more significant, so a comparison with the table with percentages above would be beneficial when deciding campaign spend.\n",
    "\n",
    "## Active user marketing recommendations\n",
    "\n",
    "Based on comparing the percentages of active users combined with these coefficients, I would recommend the following:\n",
    "   - Increase spend on friends and university campaigns, as these are successful in making active users\n",
    "   - Reduce spend on youtube, google\n",
    "   - Experiment with increasing spend on conference, advertisement, google, university, to see if these can be grown\n",
    "   - Really try to understand where the unknown users come from. If we have their email addresses, perhaps we can target them with email marketing to increase their activity\n",
    "   - For users that we have identified that they are getting too many questions correct, increasing the difficulty may increase the chances of becoming an active user"
   ]
  },
  {
   "cell_type": "markdown",
   "metadata": {},
   "source": [
    "## Code activation and activity volume prediction\n",
    "\n",
    "We can use the same matrix as in the previous step to predict these next values. As the total activity of each user is very likely to depend on when the user signed up, rather than based on any inherent attributes, we can limit this to predicting the user activity over the following 6 months after signup.\n",
    "\n",
    "As there are many outliers, and it's not essential to know a user's exact usage, using a linear model to predict the usage doesn't really make sense. In addition, this will make the results easier to use. Instead, for chapter and question usage, we will group the users into Low, Medium and High usage (labels 1, 2, and 3 respectively), based on the 33% and 66% quantiles of the whole set. For code activations, we will simply classify them into users which use one code, or users who buy more than one code. \n",
    "\n",
    "We will then use a classification algorithm to attempt to classify the users in each case."
   ]
  },
  {
   "cell_type": "code",
   "execution_count": 33,
   "metadata": {},
   "outputs": [],
   "source": [
    "#function to return a series of labels from 1-3 corresponding with\n",
    "#which 3rd quantile the value lands within\n",
    "def quantile_group(column):\n",
    "    quantile_33 = np.nanpercentile(column, 33)\n",
    "    quantile_66 = np.nanpercentile(column, 66)\n",
    "    def which_group(value):\n",
    "        if value <= quantile_33:\n",
    "            return 1\n",
    "        if (value > quantile_33) and (value < quantile_66):\n",
    "            return 2\n",
    "        if value >= quantile_66:\n",
    "            return 3\n",
    "        else:\n",
    "            return np.nan\n",
    "        \n",
    "    output = column.apply(which_group)\n",
    "    return output"
   ]
  },
  {
   "cell_type": "code",
   "execution_count": 34,
   "metadata": {},
   "outputs": [
    {
     "name": "stdout",
     "output_type": "stream",
     "text": [
      "0 users were dropped as they didn't appear in either the chapters or questions table\n"
     ]
    }
   ],
   "source": [
    "# creating the activity volume prediction dataframe\n",
    "active_user_metrics_list = []\n",
    "num_months = 6\n",
    "i=0\n",
    "for user_id in active_users:\n",
    "    df_user_questions = \\\n",
    "        df_questions_read[df_questions_read['user_id']==user_id]\n",
    "    df_user_chapters = \\\n",
    "        df_chapters_read[df_chapters_read['user_id'] == user_id]\n",
    "    \n",
    "        \n",
    "    #find the first use in either chapters or questions\n",
    "    if (len(df_user_questions) == 0):\n",
    "        if len(df_user_chapters) == 0:\n",
    "            i += 1\n",
    "            continue\n",
    "        else:\n",
    "            first_use = df_user_chapters['created_at'].values[0]\n",
    "    else:\n",
    "        first_use = df_user_questions['created_at'].values[0]\n",
    "        \n",
    "    end_time = first_use + pd.Timedelta(\"{} days\".format(int(30*num_months)))\n",
    "    \n",
    "    df_user_questions_first_months = \\\n",
    "        df_user_questions[df_user_questions[\"created_at\"] <= end_time]\n",
    "     \n",
    "    questions_attempted = len(df_user_questions_first_months)\n",
    "    \n",
    "    df_user_codes_months = \\\n",
    "        df_code_activations[(df_code_activations['user_id'] == user_id)\n",
    "                           &(df_code_activations['code_activation'] <= end_time)]\n",
    "        \n",
    "    number_code_activations = len(df_user_codes_months)\n",
    "        \n",
    "    df_user_chapters_months = \\\n",
    "        df_user_chapters[(df_user_chapters['created_at'] <= end_time)]\n",
    "        \n",
    "    chapters_read = len(df_user_chapters_months)\n",
    "\n",
    "    active_user_metrics_list.append([user_id, questions_attempted, \n",
    "                                     number_code_activations, chapters_read])\n",
    "    \n",
    "print(\"{} users were dropped as they didn't appear in either the chapters or questions table\".format(i))    \n",
    "df_active_user_metrics = pd.DataFrame(active_user_metrics_list, \n",
    "                                      columns=['user_id', 'questions_attempted', \n",
    "                                     'number_code_activations', 'chapters_read'])\n",
    "\n",
    "df_active_user_metrics[\"group_questions_attempted\"] = quantile_group(df_active_user_metrics['questions_attempted'])\n",
    "df_active_user_metrics[\"group_chapters_read\"] = quantile_group(df_active_user_metrics['chapters_read'])\n",
    "\n",
    "df_active_user_metrics[\"group_code_activations\"] = df_active_user_metrics['number_code_activations'].apply(lambda x: 0 if x == 1 else 1)"
   ]
  },
  {
   "cell_type": "code",
   "execution_count": 35,
   "metadata": {},
   "outputs": [
    {
     "data": {
      "text/plain": [
       "0    636\n",
       "1    336\n",
       "Name: group_code_activations, dtype: int64"
      ]
     },
     "execution_count": 35,
     "metadata": {},
     "output_type": "execute_result"
    }
   ],
   "source": [
    "# check for unbalanced classes - the others should be balanced \n",
    "df_active_user_metrics['group_code_activations'].value_counts()"
   ]
  },
  {
   "cell_type": "code",
   "execution_count": 36,
   "metadata": {},
   "outputs": [],
   "source": [
    "# create activity prediction matrix\n",
    "df_activity_prediction = \\\n",
    "    df_active_user_prediction[df_active_user_prediction['user_id'].isin(active_users)]\\\n",
    "    .merge(df_active_user_metrics,on=\"user_id\", how=\"left\")"
   ]
  },
  {
   "cell_type": "markdown",
   "metadata": {},
   "source": [
    "### Code activations predictions"
   ]
  },
  {
   "cell_type": "code",
   "execution_count": 37,
   "metadata": {},
   "outputs": [
    {
     "name": "stdout",
     "output_type": "stream",
     "text": [
      "             precision    recall  f1-score   support\n",
      "\n",
      "          0       0.84      0.65      0.73       133\n",
      "          1       0.42      0.66      0.51        50\n",
      "\n",
      "avg / total       0.72      0.66      0.67       183\n",
      "\n"
     ]
    }
   ],
   "source": [
    "# predict whether or not user redeems multiple codes\n",
    "model_code_activations = LogisticRegression(class_weight=\"balanced\") #balanced classes not required\n",
    "df_code_activations_predictions, code_activations_coefficients = \\\n",
    "    predict_user_attribute(df_activity_prediction, \n",
    "                           model=model_code_activations, \n",
    "                           list_of_features=prediction_features+marketing_source_dummy_features, \n",
    "                           target_column='group_code_activations', \n",
    "                           random_state=random_state+2, \n",
    "                           test_size=0.2,\n",
    "                           print_report=True)"
   ]
  },
  {
   "cell_type": "code",
   "execution_count": 38,
   "metadata": {},
   "outputs": [
    {
     "data": {
      "text/html": [
       "<div>\n",
       "<style>\n",
       "    .dataframe thead tr:only-child th {\n",
       "        text-align: right;\n",
       "    }\n",
       "\n",
       "    .dataframe thead th {\n",
       "        text-align: left;\n",
       "    }\n",
       "\n",
       "    .dataframe tbody tr th {\n",
       "        vertical-align: top;\n",
       "    }\n",
       "</style>\n",
       "<table border=\"1\" class=\"dataframe\">\n",
       "  <thead>\n",
       "    <tr style=\"text-align: right;\">\n",
       "      <th></th>\n",
       "      <th>num_questions_answered</th>\n",
       "      <th>num_unique_questions_answered</th>\n",
       "      <th>num_questions_repeated</th>\n",
       "      <th>num_correct_answers</th>\n",
       "      <th>num_incorrect_answers</th>\n",
       "      <th>frac_correct_answers</th>\n",
       "      <th>num_given_up</th>\n",
       "      <th>num_used_highlights_hints</th>\n",
       "      <th>num_questions_last_day</th>\n",
       "      <th>num_chapters_read</th>\n",
       "      <th>num_unique_chapters</th>\n",
       "      <th>num_chapters_repeated</th>\n",
       "    </tr>\n",
       "  </thead>\n",
       "  <tbody>\n",
       "    <tr>\n",
       "      <th>0</th>\n",
       "      <td>-0.025445</td>\n",
       "      <td>-0.040575</td>\n",
       "      <td>0.107302</td>\n",
       "      <td>0.169634</td>\n",
       "      <td>-0.275073</td>\n",
       "      <td>-0.245026</td>\n",
       "      <td>0.080863</td>\n",
       "      <td>-0.321961</td>\n",
       "      <td>-0.138316</td>\n",
       "      <td>-0.2997</td>\n",
       "      <td>0.126357</td>\n",
       "      <td>-0.299726</td>\n",
       "    </tr>\n",
       "  </tbody>\n",
       "</table>\n",
       "</div>"
      ],
      "text/plain": [
       "   num_questions_answered  num_unique_questions_answered  \\\n",
       "0               -0.025445                      -0.040575   \n",
       "\n",
       "   num_questions_repeated  num_correct_answers  num_incorrect_answers  \\\n",
       "0                0.107302             0.169634              -0.275073   \n",
       "\n",
       "   frac_correct_answers  num_given_up  num_used_highlights_hints  \\\n",
       "0             -0.245026      0.080863                  -0.321961   \n",
       "\n",
       "   num_questions_last_day  num_chapters_read  num_unique_chapters  \\\n",
       "0               -0.138316            -0.2997             0.126357   \n",
       "\n",
       "   num_chapters_repeated  \n",
       "0              -0.299726  "
      ]
     },
     "execution_count": 38,
     "metadata": {},
     "output_type": "execute_result"
    }
   ],
   "source": [
    "code_activations_coefficients[prediction_features]"
   ]
  },
  {
   "cell_type": "code",
   "execution_count": 39,
   "metadata": {},
   "outputs": [
    {
     "data": {
      "text/html": [
       "<div>\n",
       "<style>\n",
       "    .dataframe thead tr:only-child th {\n",
       "        text-align: right;\n",
       "    }\n",
       "\n",
       "    .dataframe thead th {\n",
       "        text-align: left;\n",
       "    }\n",
       "\n",
       "    .dataframe tbody tr th {\n",
       "        vertical-align: top;\n",
       "    }\n",
       "</style>\n",
       "<table border=\"1\" class=\"dataframe\">\n",
       "  <thead>\n",
       "    <tr style=\"text-align: right;\">\n",
       "      <th></th>\n",
       "      <th>advertisement</th>\n",
       "      <th>conference</th>\n",
       "      <th>facebook</th>\n",
       "      <th>friends</th>\n",
       "      <th>google</th>\n",
       "      <th>other</th>\n",
       "      <th>press_online</th>\n",
       "      <th>university</th>\n",
       "      <th>unknown</th>\n",
       "      <th>youtube</th>\n",
       "    </tr>\n",
       "  </thead>\n",
       "  <tbody>\n",
       "    <tr>\n",
       "      <th>0</th>\n",
       "      <td>0.118749</td>\n",
       "      <td>-0.034195</td>\n",
       "      <td>0.20293</td>\n",
       "      <td>0.21174</td>\n",
       "      <td>0.085135</td>\n",
       "      <td>-0.178902</td>\n",
       "      <td>-0.074489</td>\n",
       "      <td>-0.226913</td>\n",
       "      <td>0.105255</td>\n",
       "      <td>0.035945</td>\n",
       "    </tr>\n",
       "  </tbody>\n",
       "</table>\n",
       "</div>"
      ],
      "text/plain": [
       "   advertisement  conference  facebook  friends    google     other  \\\n",
       "0       0.118749   -0.034195   0.20293  0.21174  0.085135 -0.178902   \n",
       "\n",
       "   press_online  university   unknown   youtube  \n",
       "0     -0.074489   -0.226913  0.105255  0.035945  "
      ]
     },
     "execution_count": 39,
     "metadata": {},
     "output_type": "execute_result"
    }
   ],
   "source": [
    "code_activations_coefficients[marketing_source_dummy_features]"
   ]
  },
  {
   "cell_type": "markdown",
   "metadata": {},
   "source": [
    "### Assessing code activation predictions\n",
    "- Based on the first 3 days we are able to get a good idea (also with good precision) of which users already classified as 'active users' will go on to activate multiple codes\n",
    "- The coefficients for the correct/incorrect answers seems to suggest an opposite relationship than for those figures in predicting the 'active users'. This seems to be counter-intuitive, and certainly demands more investigation\n",
    "- In general, the users who have more activity in the first 3 days seem to be less likely to activate multiple codes after the first 5 days. This would certainly be worth investigating\n",
    "- facebook and friends campaigns appear to be strong for users activating codes. However, the facebook campaign is quite small, so it needs to be investigated and experimented with more\n",
    "- Understanding the unknown sources would be key to a good future strategy"
   ]
  },
  {
   "cell_type": "markdown",
   "metadata": {},
   "source": [
    "### Chapters read predictions"
   ]
  },
  {
   "cell_type": "code",
   "execution_count": 68,
   "metadata": {
    "scrolled": true
   },
   "outputs": [
    {
     "name": "stdout",
     "output_type": "stream",
     "text": [
      "             precision    recall  f1-score   support\n",
      "\n",
      "          1       0.46      0.41      0.43        75\n",
      "          2       0.29      0.15      0.20        61\n",
      "          3       0.32      0.57      0.41        47\n",
      "\n",
      "avg / total       0.37      0.37      0.35       183\n",
      "\n"
     ]
    }
   ],
   "source": [
    "model_chapters_read = LogisticRegression() #balanced classes not required\n",
    "df_chapters_read_predictions, chapters_read_coefficients = \\\n",
    "    predict_user_attribute(df_activity_prediction, \n",
    "                           model=model_chapters_read, \n",
    "                           list_of_features=prediction_features+marketing_source_dummy_features, \n",
    "                           target_column='group_chapters_read', \n",
    "                           random_state=random_state, \n",
    "                           test_size=0.2,\n",
    "                           print_report=True)\n",
    "    \n",
    "chapters_read_coefficients.index = [1,2,3]"
   ]
  },
  {
   "cell_type": "code",
   "execution_count": 41,
   "metadata": {},
   "outputs": [
    {
     "data": {
      "text/html": [
       "<div>\n",
       "<style>\n",
       "    .dataframe thead tr:only-child th {\n",
       "        text-align: right;\n",
       "    }\n",
       "\n",
       "    .dataframe thead th {\n",
       "        text-align: left;\n",
       "    }\n",
       "\n",
       "    .dataframe tbody tr th {\n",
       "        vertical-align: top;\n",
       "    }\n",
       "</style>\n",
       "<table border=\"1\" class=\"dataframe\">\n",
       "  <thead>\n",
       "    <tr style=\"text-align: right;\">\n",
       "      <th></th>\n",
       "      <th>num_questions_answered</th>\n",
       "      <th>num_unique_questions_answered</th>\n",
       "      <th>num_questions_repeated</th>\n",
       "      <th>num_correct_answers</th>\n",
       "      <th>num_incorrect_answers</th>\n",
       "      <th>frac_correct_answers</th>\n",
       "      <th>num_given_up</th>\n",
       "      <th>num_used_highlights_hints</th>\n",
       "      <th>num_questions_last_day</th>\n",
       "      <th>num_chapters_read</th>\n",
       "      <th>num_unique_chapters</th>\n",
       "      <th>num_chapters_repeated</th>\n",
       "    </tr>\n",
       "  </thead>\n",
       "  <tbody>\n",
       "    <tr>\n",
       "      <th>1</th>\n",
       "      <td>0.083005</td>\n",
       "      <td>0.085087</td>\n",
       "      <td>0.021491</td>\n",
       "      <td>0.015446</td>\n",
       "      <td>0.160832</td>\n",
       "      <td>0.130916</td>\n",
       "      <td>0.033807</td>\n",
       "      <td>-0.309614</td>\n",
       "      <td>-0.271523</td>\n",
       "      <td>0.066668</td>\n",
       "      <td>-0.097279</td>\n",
       "      <td>0.066680</td>\n",
       "    </tr>\n",
       "    <tr>\n",
       "      <th>2</th>\n",
       "      <td>-0.028043</td>\n",
       "      <td>-0.035324</td>\n",
       "      <td>0.044432</td>\n",
       "      <td>-0.009275</td>\n",
       "      <td>-0.049085</td>\n",
       "      <td>0.052577</td>\n",
       "      <td>-0.015469</td>\n",
       "      <td>-0.041146</td>\n",
       "      <td>0.191609</td>\n",
       "      <td>0.107572</td>\n",
       "      <td>-0.125533</td>\n",
       "      <td>0.107589</td>\n",
       "    </tr>\n",
       "    <tr>\n",
       "      <th>3</th>\n",
       "      <td>-0.077608</td>\n",
       "      <td>-0.066115</td>\n",
       "      <td>-0.125715</td>\n",
       "      <td>-0.113216</td>\n",
       "      <td>-0.022483</td>\n",
       "      <td>-0.150633</td>\n",
       "      <td>-0.038676</td>\n",
       "      <td>0.223219</td>\n",
       "      <td>0.086169</td>\n",
       "      <td>-0.179687</td>\n",
       "      <td>0.242102</td>\n",
       "      <td>-0.179718</td>\n",
       "    </tr>\n",
       "  </tbody>\n",
       "</table>\n",
       "</div>"
      ],
      "text/plain": [
       "   num_questions_answered  num_unique_questions_answered  \\\n",
       "1                0.083005                       0.085087   \n",
       "2               -0.028043                      -0.035324   \n",
       "3               -0.077608                      -0.066115   \n",
       "\n",
       "   num_questions_repeated  num_correct_answers  num_incorrect_answers  \\\n",
       "1                0.021491             0.015446               0.160832   \n",
       "2                0.044432            -0.009275              -0.049085   \n",
       "3               -0.125715            -0.113216              -0.022483   \n",
       "\n",
       "   frac_correct_answers  num_given_up  num_used_highlights_hints  \\\n",
       "1              0.130916      0.033807                  -0.309614   \n",
       "2              0.052577     -0.015469                  -0.041146   \n",
       "3             -0.150633     -0.038676                   0.223219   \n",
       "\n",
       "   num_questions_last_day  num_chapters_read  num_unique_chapters  \\\n",
       "1               -0.271523           0.066668            -0.097279   \n",
       "2                0.191609           0.107572            -0.125533   \n",
       "3                0.086169          -0.179687             0.242102   \n",
       "\n",
       "   num_chapters_repeated  \n",
       "1               0.066680  \n",
       "2               0.107589  \n",
       "3              -0.179718  "
      ]
     },
     "execution_count": 41,
     "metadata": {},
     "output_type": "execute_result"
    }
   ],
   "source": [
    "chapters_read_coefficients[prediction_features]"
   ]
  },
  {
   "cell_type": "code",
   "execution_count": 42,
   "metadata": {},
   "outputs": [
    {
     "data": {
      "text/html": [
       "<div>\n",
       "<style>\n",
       "    .dataframe thead tr:only-child th {\n",
       "        text-align: right;\n",
       "    }\n",
       "\n",
       "    .dataframe thead th {\n",
       "        text-align: left;\n",
       "    }\n",
       "\n",
       "    .dataframe tbody tr th {\n",
       "        vertical-align: top;\n",
       "    }\n",
       "</style>\n",
       "<table border=\"1\" class=\"dataframe\">\n",
       "  <thead>\n",
       "    <tr style=\"text-align: right;\">\n",
       "      <th></th>\n",
       "      <th>advertisement</th>\n",
       "      <th>conference</th>\n",
       "      <th>facebook</th>\n",
       "      <th>friends</th>\n",
       "      <th>google</th>\n",
       "      <th>other</th>\n",
       "      <th>press_online</th>\n",
       "      <th>university</th>\n",
       "      <th>unknown</th>\n",
       "      <th>youtube</th>\n",
       "    </tr>\n",
       "  </thead>\n",
       "  <tbody>\n",
       "    <tr>\n",
       "      <th>1</th>\n",
       "      <td>0.009267</td>\n",
       "      <td>-0.027879</td>\n",
       "      <td>0.118763</td>\n",
       "      <td>0.284175</td>\n",
       "      <td>0.072013</td>\n",
       "      <td>0.193088</td>\n",
       "      <td>0.016021</td>\n",
       "      <td>0.139144</td>\n",
       "      <td>0.325435</td>\n",
       "      <td>-0.178935</td>\n",
       "    </tr>\n",
       "    <tr>\n",
       "      <th>2</th>\n",
       "      <td>-0.159556</td>\n",
       "      <td>-0.137892</td>\n",
       "      <td>-0.528742</td>\n",
       "      <td>-0.546123</td>\n",
       "      <td>-0.197227</td>\n",
       "      <td>-0.350189</td>\n",
       "      <td>-0.142420</td>\n",
       "      <td>-0.213314</td>\n",
       "      <td>-0.566025</td>\n",
       "      <td>-0.019389</td>\n",
       "    </tr>\n",
       "    <tr>\n",
       "      <th>3</th>\n",
       "      <td>0.148392</td>\n",
       "      <td>0.150467</td>\n",
       "      <td>0.357255</td>\n",
       "      <td>0.276983</td>\n",
       "      <td>0.131036</td>\n",
       "      <td>0.110304</td>\n",
       "      <td>0.126361</td>\n",
       "      <td>0.081110</td>\n",
       "      <td>0.255435</td>\n",
       "      <td>0.049828</td>\n",
       "    </tr>\n",
       "  </tbody>\n",
       "</table>\n",
       "</div>"
      ],
      "text/plain": [
       "   advertisement  conference  facebook   friends    google     other  \\\n",
       "1       0.009267   -0.027879  0.118763  0.284175  0.072013  0.193088   \n",
       "2      -0.159556   -0.137892 -0.528742 -0.546123 -0.197227 -0.350189   \n",
       "3       0.148392    0.150467  0.357255  0.276983  0.131036  0.110304   \n",
       "\n",
       "   press_online  university   unknown   youtube  \n",
       "1      0.016021    0.139144  0.325435 -0.178935  \n",
       "2     -0.142420   -0.213314 -0.566025 -0.019389  \n",
       "3      0.126361    0.081110  0.255435  0.049828  "
      ]
     },
     "execution_count": 42,
     "metadata": {},
     "output_type": "execute_result"
    }
   ],
   "source": [
    "chapters_read_coefficients[marketing_source_dummy_features]"
   ]
  },
  {
   "cell_type": "markdown",
   "metadata": {},
   "source": [
    "### Questions read predictions"
   ]
  },
  {
   "cell_type": "code",
   "execution_count": 69,
   "metadata": {},
   "outputs": [
    {
     "name": "stdout",
     "output_type": "stream",
     "text": [
      "             precision    recall  f1-score   support\n",
      "\n",
      "          1       0.54      0.75      0.63        57\n",
      "          2       0.49      0.32      0.39        72\n",
      "          3       0.66      0.69      0.67        54\n",
      "\n",
      "avg / total       0.55      0.56      0.55       183\n",
      "\n"
     ]
    }
   ],
   "source": [
    "model_questions_read = LogisticRegression()\n",
    "df_questions_read_predictions, questions_read_coefficients = \\\n",
    "    predict_user_attribute(df_activity_prediction, \n",
    "                           model=model_questions_read, \n",
    "                           list_of_features=prediction_features+marketing_source_dummy_features, \n",
    "                           target_column='group_questions_attempted', \n",
    "                           random_state=random_state+1, \n",
    "                           test_size=0.2,\n",
    "                           print_report=True)\n",
    "\n",
    "questions_read_coefficients.index = [1,2,3]"
   ]
  },
  {
   "cell_type": "code",
   "execution_count": 70,
   "metadata": {},
   "outputs": [
    {
     "data": {
      "text/html": [
       "<div>\n",
       "<style>\n",
       "    .dataframe thead tr:only-child th {\n",
       "        text-align: right;\n",
       "    }\n",
       "\n",
       "    .dataframe thead th {\n",
       "        text-align: left;\n",
       "    }\n",
       "\n",
       "    .dataframe tbody tr th {\n",
       "        vertical-align: top;\n",
       "    }\n",
       "</style>\n",
       "<table border=\"1\" class=\"dataframe\">\n",
       "  <thead>\n",
       "    <tr style=\"text-align: right;\">\n",
       "      <th></th>\n",
       "      <th>num_questions_answered</th>\n",
       "      <th>num_unique_questions_answered</th>\n",
       "      <th>num_questions_repeated</th>\n",
       "      <th>num_correct_answers</th>\n",
       "      <th>num_incorrect_answers</th>\n",
       "      <th>frac_correct_answers</th>\n",
       "      <th>num_given_up</th>\n",
       "      <th>num_used_highlights_hints</th>\n",
       "      <th>num_questions_last_day</th>\n",
       "      <th>num_chapters_read</th>\n",
       "      <th>num_unique_chapters</th>\n",
       "      <th>num_chapters_repeated</th>\n",
       "    </tr>\n",
       "  </thead>\n",
       "  <tbody>\n",
       "    <tr>\n",
       "      <th>1</th>\n",
       "      <td>-0.803220</td>\n",
       "      <td>-0.853645</td>\n",
       "      <td>0.030015</td>\n",
       "      <td>-0.617258</td>\n",
       "      <td>-0.950634</td>\n",
       "      <td>-0.222440</td>\n",
       "      <td>-0.091248</td>\n",
       "      <td>0.164576</td>\n",
       "      <td>-0.719680</td>\n",
       "      <td>0.078510</td>\n",
       "      <td>-0.154580</td>\n",
       "      <td>0.078528</td>\n",
       "    </tr>\n",
       "    <tr>\n",
       "      <th>2</th>\n",
       "      <td>-0.166220</td>\n",
       "      <td>-0.193342</td>\n",
       "      <td>0.137358</td>\n",
       "      <td>-0.481591</td>\n",
       "      <td>0.261443</td>\n",
       "      <td>0.038714</td>\n",
       "      <td>-0.041582</td>\n",
       "      <td>0.284521</td>\n",
       "      <td>-0.271433</td>\n",
       "      <td>-0.016625</td>\n",
       "      <td>0.164881</td>\n",
       "      <td>-0.016641</td>\n",
       "    </tr>\n",
       "    <tr>\n",
       "      <th>3</th>\n",
       "      <td>0.463217</td>\n",
       "      <td>0.524407</td>\n",
       "      <td>-0.269658</td>\n",
       "      <td>0.235022</td>\n",
       "      <td>0.704835</td>\n",
       "      <td>0.439622</td>\n",
       "      <td>-0.105670</td>\n",
       "      <td>-0.271568</td>\n",
       "      <td>0.432712</td>\n",
       "      <td>-0.073168</td>\n",
       "      <td>0.014230</td>\n",
       "      <td>-0.073173</td>\n",
       "    </tr>\n",
       "  </tbody>\n",
       "</table>\n",
       "</div>"
      ],
      "text/plain": [
       "   num_questions_answered  num_unique_questions_answered  \\\n",
       "1               -0.803220                      -0.853645   \n",
       "2               -0.166220                      -0.193342   \n",
       "3                0.463217                       0.524407   \n",
       "\n",
       "   num_questions_repeated  num_correct_answers  num_incorrect_answers  \\\n",
       "1                0.030015            -0.617258              -0.950634   \n",
       "2                0.137358            -0.481591               0.261443   \n",
       "3               -0.269658             0.235022               0.704835   \n",
       "\n",
       "   frac_correct_answers  num_given_up  num_used_highlights_hints  \\\n",
       "1             -0.222440     -0.091248                   0.164576   \n",
       "2              0.038714     -0.041582                   0.284521   \n",
       "3              0.439622     -0.105670                  -0.271568   \n",
       "\n",
       "   num_questions_last_day  num_chapters_read  num_unique_chapters  \\\n",
       "1               -0.719680           0.078510            -0.154580   \n",
       "2               -0.271433          -0.016625             0.164881   \n",
       "3                0.432712          -0.073168             0.014230   \n",
       "\n",
       "   num_chapters_repeated  \n",
       "1               0.078528  \n",
       "2              -0.016641  \n",
       "3              -0.073173  "
      ]
     },
     "execution_count": 70,
     "metadata": {},
     "output_type": "execute_result"
    }
   ],
   "source": [
    "questions_read_coefficients[prediction_features]"
   ]
  },
  {
   "cell_type": "code",
   "execution_count": 71,
   "metadata": {},
   "outputs": [
    {
     "data": {
      "text/html": [
       "<div>\n",
       "<style>\n",
       "    .dataframe thead tr:only-child th {\n",
       "        text-align: right;\n",
       "    }\n",
       "\n",
       "    .dataframe thead th {\n",
       "        text-align: left;\n",
       "    }\n",
       "\n",
       "    .dataframe tbody tr th {\n",
       "        vertical-align: top;\n",
       "    }\n",
       "</style>\n",
       "<table border=\"1\" class=\"dataframe\">\n",
       "  <thead>\n",
       "    <tr style=\"text-align: right;\">\n",
       "      <th></th>\n",
       "      <th>advertisement</th>\n",
       "      <th>conference</th>\n",
       "      <th>facebook</th>\n",
       "      <th>friends</th>\n",
       "      <th>google</th>\n",
       "      <th>other</th>\n",
       "      <th>press_online</th>\n",
       "      <th>university</th>\n",
       "      <th>unknown</th>\n",
       "      <th>youtube</th>\n",
       "    </tr>\n",
       "  </thead>\n",
       "  <tbody>\n",
       "    <tr>\n",
       "      <th>1</th>\n",
       "      <td>-0.006402</td>\n",
       "      <td>-0.035666</td>\n",
       "      <td>0.159934</td>\n",
       "      <td>0.018947</td>\n",
       "      <td>-0.135473</td>\n",
       "      <td>-0.015872</td>\n",
       "      <td>0.064698</td>\n",
       "      <td>-0.093046</td>\n",
       "      <td>0.050066</td>\n",
       "      <td>-0.217708</td>\n",
       "    </tr>\n",
       "    <tr>\n",
       "      <th>2</th>\n",
       "      <td>0.173068</td>\n",
       "      <td>0.182667</td>\n",
       "      <td>-0.086524</td>\n",
       "      <td>0.152507</td>\n",
       "      <td>0.265758</td>\n",
       "      <td>0.224342</td>\n",
       "      <td>-0.024827</td>\n",
       "      <td>0.200705</td>\n",
       "      <td>0.161179</td>\n",
       "      <td>-0.197949</td>\n",
       "    </tr>\n",
       "    <tr>\n",
       "      <th>3</th>\n",
       "      <td>-0.147588</td>\n",
       "      <td>-0.169914</td>\n",
       "      <td>-0.050003</td>\n",
       "      <td>-0.078125</td>\n",
       "      <td>-0.200393</td>\n",
       "      <td>-0.226946</td>\n",
       "      <td>0.023429</td>\n",
       "      <td>-0.116859</td>\n",
       "      <td>-0.116380</td>\n",
       "      <td>0.305355</td>\n",
       "    </tr>\n",
       "  </tbody>\n",
       "</table>\n",
       "</div>"
      ],
      "text/plain": [
       "   advertisement  conference  facebook   friends    google     other  \\\n",
       "1      -0.006402   -0.035666  0.159934  0.018947 -0.135473 -0.015872   \n",
       "2       0.173068    0.182667 -0.086524  0.152507  0.265758  0.224342   \n",
       "3      -0.147588   -0.169914 -0.050003 -0.078125 -0.200393 -0.226946   \n",
       "\n",
       "   press_online  university   unknown   youtube  \n",
       "1      0.064698   -0.093046  0.050066 -0.217708  \n",
       "2     -0.024827    0.200705  0.161179 -0.197949  \n",
       "3      0.023429   -0.116859 -0.116380  0.305355  "
      ]
     },
     "execution_count": 71,
     "metadata": {},
     "output_type": "execute_result"
    }
   ],
   "source": [
    "questions_read_coefficients[marketing_source_dummy_features]"
   ]
  },
  {
   "cell_type": "code",
   "execution_count": 72,
   "metadata": {},
   "outputs": [
    {
     "data": {
      "text/html": [
       "<div>\n",
       "<style>\n",
       "    .dataframe thead tr:only-child th {\n",
       "        text-align: right;\n",
       "    }\n",
       "\n",
       "    .dataframe thead th {\n",
       "        text-align: left;\n",
       "    }\n",
       "\n",
       "    .dataframe tbody tr th {\n",
       "        vertical-align: top;\n",
       "    }\n",
       "</style>\n",
       "<table border=\"1\" class=\"dataframe\">\n",
       "  <thead>\n",
       "    <tr style=\"text-align: right;\">\n",
       "      <th></th>\n",
       "      <th>advertisement</th>\n",
       "      <th>conference</th>\n",
       "      <th>facebook</th>\n",
       "      <th>friends</th>\n",
       "      <th>google</th>\n",
       "      <th>other</th>\n",
       "      <th>press_online</th>\n",
       "      <th>university</th>\n",
       "      <th>unknown</th>\n",
       "      <th>youtube</th>\n",
       "    </tr>\n",
       "  </thead>\n",
       "  <tbody>\n",
       "    <tr>\n",
       "      <th>0</th>\n",
       "      <td>5.05</td>\n",
       "      <td>13.33</td>\n",
       "      <td>3.03</td>\n",
       "      <td>13.79</td>\n",
       "      <td>4.11</td>\n",
       "      <td>10.4</td>\n",
       "      <td>4.67</td>\n",
       "      <td>13.52</td>\n",
       "      <td>6.61</td>\n",
       "      <td>1.69</td>\n",
       "    </tr>\n",
       "  </tbody>\n",
       "</table>\n",
       "</div>"
      ],
      "text/plain": [
       "   advertisement  conference  facebook  friends  google  other  press_online  \\\n",
       "0           5.05       13.33      3.03    13.79    4.11   10.4          4.67   \n",
       "\n",
       "   university  unknown  youtube  \n",
       "0       13.52     6.61     1.69  "
      ]
     },
     "execution_count": 72,
     "metadata": {},
     "output_type": "execute_result"
    }
   ],
   "source": [
    "percentage_active_per_channel"
   ]
  },
  {
   "cell_type": "markdown",
   "metadata": {},
   "source": [
    "### Assessing chapter and questions predictions\n",
    "- In both cases, we are able to identify over half of the high volume users\n",
    "- The chapters read model had worse performance - possibly because it did not have enough features to do with the chapters being read in the first 3 days.\n",
    "- The difference in behaivour in the two models would suggest that there are active users which favour either reading the chapters or taking the questions\n",
    "- Interestingly, highly frequent questions users have a strong correlation with getting incorrect answers in the first 3 days.\n",
    "- The model parameters are tricky to interpret without further analysis, but they appear to indicate that increasing investment in friends, unknown, university, and conference campaigns will lead to more medium and high activity users."
   ]
  },
  {
   "cell_type": "markdown",
   "metadata": {},
   "source": [
    "# Final recommendations/actions\n",
    "- Really understand the source of the 'unknown' users. As they're the biggest user group, and currently have a low activity rate, if they can be targeted in any way (email) then there could be potential for very large increases in activity\n",
    "- Run models with all users, rather than just those given in the chapters_read table\n",
    "- Try resampling the data with respect to marketing souce, to get an even balance and a fair comparison of channels\n",
    "- Understand how some users that do not activate codes have activity in questions and chapters. Use this to refine the definition of an active user.\n",
    "- Take a deeper look into the relationships between some of the activity metrics. In this example, I've put lots of features into every model, but the model performance could be improved with better understanding of the relationships and removing/creating features\n",
    "- Refine the model to identify which users are likely to be 'active users' within the first few days. This could be done with adding and removing features, experimenting with model parameters, resampling the data to provide balanced class distributions\n",
    "- If a user identified as a potential 'active iser' has a high fraction of getting questions correct, then experiment with increasing their question difficulty\n",
    "- Increase spend on friends and university campaigns, as these are successful in making active users\n",
    "- Increase spend on conference - this appears to be a reliable method\n",
    "- Reduce spend on youtube, \n",
    "- Try and increase the 'active user' conversion rate of facebook users, through experimentation or changing the current marketing materials. The percentage of active users is very low, but the active users from this source appear to be high volume users. As there are large numbers in total, any increase to this percentage will have a large effect"
   ]
  }
 ],
 "metadata": {
  "kernelspec": {
   "display_name": "Python 3",
   "language": "python",
   "name": "python3"
  },
  "language_info": {
   "codemirror_mode": {
    "name": "ipython",
    "version": 3
   },
   "file_extension": ".py",
   "mimetype": "text/x-python",
   "name": "python",
   "nbconvert_exporter": "python",
   "pygments_lexer": "ipython3",
   "version": "3.6.4"
  }
 },
 "nbformat": 4,
 "nbformat_minor": 2
}
